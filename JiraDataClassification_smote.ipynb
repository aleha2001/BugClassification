{
 "cells": [
  {
   "cell_type": "code",
   "execution_count": 1,
   "metadata": {},
   "outputs": [],
   "source": [
    "## for data\n",
    "import json\n",
    "import pandas as pd\n",
    "import numpy as np"
   ]
  },
  {
   "cell_type": "code",
   "execution_count": 2,
   "metadata": {},
   "outputs": [],
   "source": [
    "## language recognition\n",
    "from langdetect import detect"
   ]
  },
  {
   "cell_type": "code",
   "execution_count": 3,
   "metadata": {},
   "outputs": [],
   "source": [
    "from googletrans import Translator"
   ]
  },
  {
   "cell_type": "code",
   "execution_count": 4,
   "metadata": {},
   "outputs": [],
   "source": [
    "## for processing\n",
    "import re\n",
    "import nltk"
   ]
  },
  {
   "cell_type": "code",
   "execution_count": 5,
   "metadata": {},
   "outputs": [],
   "source": [
    "# for mutilang lemmatization\n",
    "import simplemma"
   ]
  },
  {
   "cell_type": "code",
   "execution_count": 6,
   "metadata": {},
   "outputs": [],
   "source": [
    "# for plotting\n",
    "import matplotlib.pyplot as plt\n",
    "import seaborn as sns"
   ]
  },
  {
   "cell_type": "code",
   "execution_count": 9,
   "metadata": {},
   "outputs": [],
   "source": [
    "## for bag-of-words\n",
    "from sklearn import feature_extraction, model_selection, naive_bayes, pipeline, manifold, preprocessing, feature_selection, metrics,svm\n",
    "## for word embedding\n",
    "import gensim\n",
    "import gensim.downloader as gensim_api"
   ]
  },
  {
   "cell_type": "code",
   "execution_count": 11,
   "metadata": {},
   "outputs": [],
   "source": [
    "from imblearn.over_sampling import SMOTE"
   ]
  },
  {
   "cell_type": "code",
   "execution_count": 12,
   "metadata": {},
   "outputs": [
    {
     "data": {
      "text/plain": [
       "(10965, 2)"
      ]
     },
     "execution_count": 12,
     "metadata": {},
     "output_type": "execute_result"
    }
   ],
   "source": [
    "# данные из jira\n",
    "data_jira = pd.read_csv('data_from_jira.csv')\n",
    "data_jira.shape"
   ]
  },
  {
   "cell_type": "code",
   "execution_count": 13,
   "metadata": {
    "scrolled": true
   },
   "outputs": [
    {
     "data": {
      "text/html": [
       "<div>\n",
       "<style scoped>\n",
       "    .dataframe tbody tr th:only-of-type {\n",
       "        vertical-align: middle;\n",
       "    }\n",
       "\n",
       "    .dataframe tbody tr th {\n",
       "        vertical-align: top;\n",
       "    }\n",
       "\n",
       "    .dataframe thead th {\n",
       "        text-align: right;\n",
       "    }\n",
       "</style>\n",
       "<table border=\"1\" class=\"dataframe\">\n",
       "  <thead>\n",
       "    <tr style=\"text-align: right;\">\n",
       "      <th></th>\n",
       "      <th>text</th>\n",
       "      <th>company</th>\n",
       "    </tr>\n",
       "  </thead>\n",
       "  <tbody>\n",
       "    <tr>\n",
       "      <th>0</th>\n",
       "      <td>{html} **From:** E.Amez@achenbach.de  \\r\\n **S...</td>\n",
       "      <td>ACH</td>\n",
       "    </tr>\n",
       "    <tr>\n",
       "      <th>1</th>\n",
       "      <td>{html} **From:** /O=EXCHANGELABS/OU=EXCHANGE A...</td>\n",
       "      <td>ACH</td>\n",
       "    </tr>\n",
       "    <tr>\n",
       "      <th>2</th>\n",
       "      <td>{html} **From:** /O=EXCHANGELABS/OU=EXCHANGE A...</td>\n",
       "      <td>ACH</td>\n",
       "    </tr>\n",
       "    <tr>\n",
       "      <th>3</th>\n",
       "      <td>{html} **From:** /O=EXCHANGELABS/OU=EXCHANGE A...</td>\n",
       "      <td>ACH</td>\n",
       "    </tr>\n",
       "    <tr>\n",
       "      <th>4</th>\n",
       "      <td>{html} **From:** E.Amez@achenbach.de  \\r\\n **S...</td>\n",
       "      <td>ACH</td>\n",
       "    </tr>\n",
       "  </tbody>\n",
       "</table>\n",
       "</div>"
      ],
      "text/plain": [
       "                                                text company\n",
       "0  {html} **From:** E.Amez@achenbach.de  \\r\\n **S...     ACH\n",
       "1  {html} **From:** /O=EXCHANGELABS/OU=EXCHANGE A...     ACH\n",
       "2  {html} **From:** /O=EXCHANGELABS/OU=EXCHANGE A...     ACH\n",
       "3  {html} **From:** /O=EXCHANGELABS/OU=EXCHANGE A...     ACH\n",
       "4  {html} **From:** E.Amez@achenbach.de  \\r\\n **S...     ACH"
      ]
     },
     "execution_count": 13,
     "metadata": {},
     "output_type": "execute_result"
    }
   ],
   "source": [
    "data_jira.head()"
   ]
  },
  {
   "cell_type": "code",
   "execution_count": 14,
   "metadata": {},
   "outputs": [
    {
     "data": {
      "text/plain": [
       "(10965, 2)"
      ]
     },
     "execution_count": 14,
     "metadata": {},
     "output_type": "execute_result"
    }
   ],
   "source": [
    "data_jira.shape"
   ]
  },
  {
   "cell_type": "code",
   "execution_count": 15,
   "metadata": {},
   "outputs": [],
   "source": [
    "# удаление строк с проектами demo, integrate\n",
    "data_jira = data_jira[(data_jira.company!=\"DEMO\") & (data_jira.company!=\"INTEGRATE\")]"
   ]
  },
  {
   "cell_type": "code",
   "execution_count": 16,
   "metadata": {},
   "outputs": [
    {
     "data": {
      "text/plain": [
       "(9865, 2)"
      ]
     },
     "execution_count": 16,
     "metadata": {},
     "output_type": "execute_result"
    }
   ],
   "source": [
    "data_jira.shape"
   ]
  },
  {
   "cell_type": "code",
   "execution_count": 17,
   "metadata": {},
   "outputs": [],
   "source": [
    "text_langs = list(map(lambda x:detect(x)==\"en\" ,data_jira.text))"
   ]
  },
  {
   "cell_type": "code",
   "execution_count": 18,
   "metadata": {},
   "outputs": [],
   "source": [
    "data_jira_not_en = data_jira[~np.array(text_langs)]"
   ]
  },
  {
   "cell_type": "code",
   "execution_count": 531,
   "metadata": {},
   "outputs": [
    {
     "data": {
      "text/html": [
       "<div>\n",
       "<style scoped>\n",
       "    .dataframe tbody tr th:only-of-type {\n",
       "        vertical-align: middle;\n",
       "    }\n",
       "\n",
       "    .dataframe tbody tr th {\n",
       "        vertical-align: top;\n",
       "    }\n",
       "\n",
       "    .dataframe thead th {\n",
       "        text-align: right;\n",
       "    }\n",
       "</style>\n",
       "<table border=\"1\" class=\"dataframe\">\n",
       "  <thead>\n",
       "    <tr style=\"text-align: right;\">\n",
       "      <th></th>\n",
       "      <th>index</th>\n",
       "    </tr>\n",
       "    <tr>\n",
       "      <th>company</th>\n",
       "      <th></th>\n",
       "    </tr>\n",
       "  </thead>\n",
       "  <tbody>\n",
       "    <tr>\n",
       "      <th>IKA</th>\n",
       "      <td>1</td>\n",
       "    </tr>\n",
       "    <tr>\n",
       "      <th>CCZTOZNX</th>\n",
       "      <td>1</td>\n",
       "    </tr>\n",
       "    <tr>\n",
       "      <th>CHDLTOSNX</th>\n",
       "      <td>1</td>\n",
       "    </tr>\n",
       "    <tr>\n",
       "      <th>CSCH</th>\n",
       "      <td>1</td>\n",
       "    </tr>\n",
       "    <tr>\n",
       "      <th>MB</th>\n",
       "      <td>1</td>\n",
       "    </tr>\n",
       "    <tr>\n",
       "      <th>...</th>\n",
       "      <td>...</td>\n",
       "    </tr>\n",
       "    <tr>\n",
       "      <th>TBN</th>\n",
       "      <td>33</td>\n",
       "    </tr>\n",
       "    <tr>\n",
       "      <th>IMA</th>\n",
       "      <td>36</td>\n",
       "    </tr>\n",
       "    <tr>\n",
       "      <th>VOS</th>\n",
       "      <td>36</td>\n",
       "    </tr>\n",
       "    <tr>\n",
       "      <th>TURCK</th>\n",
       "      <td>79</td>\n",
       "    </tr>\n",
       "    <tr>\n",
       "      <th>HER</th>\n",
       "      <td>117</td>\n",
       "    </tr>\n",
       "  </tbody>\n",
       "</table>\n",
       "<p>135 rows × 1 columns</p>\n",
       "</div>"
      ],
      "text/plain": [
       "           index\n",
       "company         \n",
       "IKA            1\n",
       "CCZTOZNX       1\n",
       "CHDLTOSNX      1\n",
       "CSCH           1\n",
       "MB             1\n",
       "...          ...\n",
       "TBN           33\n",
       "IMA           36\n",
       "VOS           36\n",
       "TURCK         79\n",
       "HER          117\n",
       "\n",
       "[135 rows x 1 columns]"
      ]
     },
     "execution_count": 531,
     "metadata": {},
     "output_type": "execute_result"
    }
   ],
   "source": [
    "data_jira_not_en[\"company\"].reset_index().groupby(\"company\").count().sort_values(by=\"index\")"
   ]
  },
  {
   "cell_type": "code",
   "execution_count": 308,
   "metadata": {},
   "outputs": [],
   "source": [
    "# удаление строк не с английским языком\n",
    "data_jira_en = data_jira[text_langs]"
   ]
  },
  {
   "cell_type": "code",
   "execution_count": 304,
   "metadata": {},
   "outputs": [],
   "source": [
    "# распределение компаний\n",
    "n_companies_sorted = data_jira_en[\"company\"].reset_index().groupby(\"company\").count().sort_values(by=\"index\")"
   ]
  },
  {
   "cell_type": "code",
   "execution_count": 354,
   "metadata": {},
   "outputs": [
    {
     "data": {
      "text/html": [
       "<div>\n",
       "<style scoped>\n",
       "    .dataframe tbody tr th:only-of-type {\n",
       "        vertical-align: middle;\n",
       "    }\n",
       "\n",
       "    .dataframe tbody tr th {\n",
       "        vertical-align: top;\n",
       "    }\n",
       "\n",
       "    .dataframe thead th {\n",
       "        text-align: right;\n",
       "    }\n",
       "</style>\n",
       "<table border=\"1\" class=\"dataframe\">\n",
       "  <thead>\n",
       "    <tr style=\"text-align: right;\">\n",
       "      <th></th>\n",
       "      <th>index</th>\n",
       "    </tr>\n",
       "    <tr>\n",
       "      <th>company</th>\n",
       "      <th></th>\n",
       "    </tr>\n",
       "  </thead>\n",
       "  <tbody>\n",
       "    <tr>\n",
       "      <th>SMA</th>\n",
       "      <td>1</td>\n",
       "    </tr>\n",
       "    <tr>\n",
       "      <th>ZZZINTERNAL</th>\n",
       "      <td>1</td>\n",
       "    </tr>\n",
       "    <tr>\n",
       "      <th>SHURE</th>\n",
       "      <td>1</td>\n",
       "    </tr>\n",
       "    <tr>\n",
       "      <th>SIMENSICN</th>\n",
       "      <td>1</td>\n",
       "    </tr>\n",
       "    <tr>\n",
       "      <th>CORSITE</th>\n",
       "      <td>1</td>\n",
       "    </tr>\n",
       "    <tr>\n",
       "      <th>...</th>\n",
       "      <td>...</td>\n",
       "    </tr>\n",
       "    <tr>\n",
       "      <th>EPDM</th>\n",
       "      <td>242</td>\n",
       "    </tr>\n",
       "    <tr>\n",
       "      <th>SVC</th>\n",
       "      <td>284</td>\n",
       "    </tr>\n",
       "    <tr>\n",
       "      <th>ECTR</th>\n",
       "      <td>335</td>\n",
       "    </tr>\n",
       "    <tr>\n",
       "      <th>SIE</th>\n",
       "      <td>394</td>\n",
       "    </tr>\n",
       "    <tr>\n",
       "      <th>DM</th>\n",
       "      <td>521</td>\n",
       "    </tr>\n",
       "  </tbody>\n",
       "</table>\n",
       "<p>209 rows × 1 columns</p>\n",
       "</div>"
      ],
      "text/plain": [
       "             index\n",
       "company           \n",
       "SMA              1\n",
       "ZZZINTERNAL      1\n",
       "SHURE            1\n",
       "SIMENSICN        1\n",
       "CORSITE          1\n",
       "...            ...\n",
       "EPDM           242\n",
       "SVC            284\n",
       "ECTR           335\n",
       "SIE            394\n",
       "DM             521\n",
       "\n",
       "[209 rows x 1 columns]"
      ]
     },
     "execution_count": 354,
     "metadata": {},
     "output_type": "execute_result"
    }
   ],
   "source": [
    "n_companies_sorted"
   ]
  },
  {
   "cell_type": "code",
   "execution_count": 309,
   "metadata": {},
   "outputs": [],
   "source": [
    "data_jira_en = data_jira_en[data_jira_en[\"company\"].map(lambda x: n_companies_sorted.loc[x][0] > 3)]"
   ]
  },
  {
   "cell_type": "code",
   "execution_count": 381,
   "metadata": {},
   "outputs": [],
   "source": [
    "n_companies_dict_en = dict(data_jira_en[\"company\"].reset_index().groupby(\"company\").count().sort_values(by=\"index\"))[\"index\"]"
   ]
  },
  {
   "cell_type": "code",
   "execution_count": 78,
   "metadata": {},
   "outputs": [],
   "source": [
    "ps = nltk.stem.porter.PorterStemmer()\n",
    "lem = nltk.stem.wordnet.WordNetLemmatizer()\n",
    "# препроцессинг текста\n",
    "def preprocess_text(text, flg_stemm=False, flg_lemm=True, lst_stopwords=None):\n",
    "    # текст переводится в нижний регистр, оставляются только буквы\n",
    "    text = re.sub('[^A-Za-z ]+', '', text.lower().strip())\n",
    "    \n",
    "    # токенизация - разбиение на слова\n",
    "    lst_text = text.split()\n",
    "    \n",
    "    # удаление стоп слов\n",
    "    if lst_stopwords is not None:\n",
    "        lst_text = [word for word in lst_text if word not in \n",
    "                    lst_stopwords]\n",
    "    \n",
    "    # стемминг\n",
    "    if flg_stemm:\n",
    "        \n",
    "        lst_text = [ps.stem(word) for word in lst_text]\n",
    "         \n",
    "    # леммантизация\n",
    "    if flg_lemm:\n",
    "        \n",
    "        lst_text = [lem.lemmatize(word) for word in lst_text]\n",
    "      \n",
    "    \n",
    "            \n",
    "    # перевод обратно в текст\n",
    "    text = \" \".join(lst_text)\n",
    "    return text"
   ]
  },
  {
   "cell_type": "code",
   "execution_count": 79,
   "metadata": {},
   "outputs": [
    {
     "data": {
      "text/plain": [
       "['i',\n",
       " 'me',\n",
       " 'my',\n",
       " 'myself',\n",
       " 'we',\n",
       " 'our',\n",
       " 'ours',\n",
       " 'ourselves',\n",
       " 'you',\n",
       " \"you're\",\n",
       " \"you've\",\n",
       " \"you'll\",\n",
       " \"you'd\",\n",
       " 'your',\n",
       " 'yours',\n",
       " 'yourself',\n",
       " 'yourselves',\n",
       " 'he',\n",
       " 'him',\n",
       " 'his',\n",
       " 'himself',\n",
       " 'she',\n",
       " \"she's\",\n",
       " 'her',\n",
       " 'hers',\n",
       " 'herself',\n",
       " 'it',\n",
       " \"it's\",\n",
       " 'its',\n",
       " 'itself',\n",
       " 'they',\n",
       " 'them',\n",
       " 'their',\n",
       " 'theirs',\n",
       " 'themselves',\n",
       " 'what',\n",
       " 'which',\n",
       " 'who',\n",
       " 'whom',\n",
       " 'this',\n",
       " 'that',\n",
       " \"that'll\",\n",
       " 'these',\n",
       " 'those',\n",
       " 'am',\n",
       " 'is',\n",
       " 'are',\n",
       " 'was',\n",
       " 'were',\n",
       " 'be',\n",
       " 'been',\n",
       " 'being',\n",
       " 'have',\n",
       " 'has',\n",
       " 'had',\n",
       " 'having',\n",
       " 'do',\n",
       " 'does',\n",
       " 'did',\n",
       " 'doing',\n",
       " 'a',\n",
       " 'an',\n",
       " 'the',\n",
       " 'and',\n",
       " 'but',\n",
       " 'if',\n",
       " 'or',\n",
       " 'because',\n",
       " 'as',\n",
       " 'until',\n",
       " 'while',\n",
       " 'of',\n",
       " 'at',\n",
       " 'by',\n",
       " 'for',\n",
       " 'with',\n",
       " 'about',\n",
       " 'against',\n",
       " 'between',\n",
       " 'into',\n",
       " 'through',\n",
       " 'during',\n",
       " 'before',\n",
       " 'after',\n",
       " 'above',\n",
       " 'below',\n",
       " 'to',\n",
       " 'from',\n",
       " 'up',\n",
       " 'down',\n",
       " 'in',\n",
       " 'out',\n",
       " 'on',\n",
       " 'off',\n",
       " 'over',\n",
       " 'under',\n",
       " 'again',\n",
       " 'further',\n",
       " 'then',\n",
       " 'once',\n",
       " 'here',\n",
       " 'there',\n",
       " 'when',\n",
       " 'where',\n",
       " 'why',\n",
       " 'how',\n",
       " 'all',\n",
       " 'any',\n",
       " 'both',\n",
       " 'each',\n",
       " 'few',\n",
       " 'more',\n",
       " 'most',\n",
       " 'other',\n",
       " 'some',\n",
       " 'such',\n",
       " 'no',\n",
       " 'nor',\n",
       " 'not',\n",
       " 'only',\n",
       " 'own',\n",
       " 'same',\n",
       " 'so',\n",
       " 'than',\n",
       " 'too',\n",
       " 'very',\n",
       " 's',\n",
       " 't',\n",
       " 'can',\n",
       " 'will',\n",
       " 'just',\n",
       " 'don',\n",
       " \"don't\",\n",
       " 'should',\n",
       " \"should've\",\n",
       " 'now',\n",
       " 'd',\n",
       " 'll',\n",
       " 'm',\n",
       " 'o',\n",
       " 're',\n",
       " 've',\n",
       " 'y',\n",
       " 'ain',\n",
       " 'aren',\n",
       " \"aren't\",\n",
       " 'couldn',\n",
       " \"couldn't\",\n",
       " 'didn',\n",
       " \"didn't\",\n",
       " 'doesn',\n",
       " \"doesn't\",\n",
       " 'hadn',\n",
       " \"hadn't\",\n",
       " 'hasn',\n",
       " \"hasn't\",\n",
       " 'haven',\n",
       " \"haven't\",\n",
       " 'isn',\n",
       " \"isn't\",\n",
       " 'ma',\n",
       " 'mightn',\n",
       " \"mightn't\",\n",
       " 'mustn',\n",
       " \"mustn't\",\n",
       " 'needn',\n",
       " \"needn't\",\n",
       " 'shan',\n",
       " \"shan't\",\n",
       " 'shouldn',\n",
       " \"shouldn't\",\n",
       " 'wasn',\n",
       " \"wasn't\",\n",
       " 'weren',\n",
       " \"weren't\",\n",
       " 'won',\n",
       " \"won't\",\n",
       " 'wouldn',\n",
       " \"wouldn't\"]"
      ]
     },
     "execution_count": 79,
     "metadata": {},
     "output_type": "execute_result"
    }
   ],
   "source": [
    "lst_stopwords = nltk.corpus.stopwords.words(\"english\")\n",
    "lst_stopwords"
   ]
  },
  {
   "cell_type": "code",
   "execution_count": 80,
   "metadata": {},
   "outputs": [
    {
     "data": {
      "text/plain": [
       "179"
      ]
     },
     "execution_count": 80,
     "metadata": {},
     "output_type": "execute_result"
    }
   ],
   "source": [
    "len(lst_stopwords)"
   ]
  },
  {
   "cell_type": "code",
   "execution_count": 327,
   "metadata": {},
   "outputs": [],
   "source": [
    "data_jira_en[\"text_clean\"] = data_jira_en[\"text\"].apply(lambda x: \n",
    "          preprocess_text(x, flg_stemm=True, flg_lemm=False, \n",
    "          lst_stopwords=lst_stopwords))"
   ]
  },
  {
   "cell_type": "code",
   "execution_count": null,
   "metadata": {},
   "outputs": [],
   "source": []
  },
  {
   "cell_type": "code",
   "execution_count": 409,
   "metadata": {},
   "outputs": [],
   "source": [
    "## split dataset\n",
    "dtf_train, dtf_test = model_selection.train_test_split(data_jira_en, test_size=0.33,shuffle=True,stratify=data_jira_en[\"company\"])\n",
    "## get target\n",
    "y_train = dtf_train[\"company\"].values\n",
    "y_test = dtf_test[\"company\"].values"
   ]
  },
  {
   "cell_type": "code",
   "execution_count": 437,
   "metadata": {},
   "outputs": [
    {
     "data": {
      "text/html": [
       "<div>\n",
       "<style scoped>\n",
       "    .dataframe tbody tr th:only-of-type {\n",
       "        vertical-align: middle;\n",
       "    }\n",
       "\n",
       "    .dataframe tbody tr th {\n",
       "        vertical-align: top;\n",
       "    }\n",
       "\n",
       "    .dataframe thead th {\n",
       "        text-align: right;\n",
       "    }\n",
       "</style>\n",
       "<table border=\"1\" class=\"dataframe\">\n",
       "  <thead>\n",
       "    <tr style=\"text-align: right;\">\n",
       "      <th></th>\n",
       "      <th>index</th>\n",
       "    </tr>\n",
       "    <tr>\n",
       "      <th>company</th>\n",
       "      <th></th>\n",
       "    </tr>\n",
       "  </thead>\n",
       "  <tbody>\n",
       "    <tr>\n",
       "      <th>LEAR</th>\n",
       "      <td>3</td>\n",
       "    </tr>\n",
       "    <tr>\n",
       "      <th>ZF</th>\n",
       "      <td>3</td>\n",
       "    </tr>\n",
       "    <tr>\n",
       "      <th>ADMINUI</th>\n",
       "      <td>3</td>\n",
       "    </tr>\n",
       "    <tr>\n",
       "      <th>THO</th>\n",
       "      <td>3</td>\n",
       "    </tr>\n",
       "    <tr>\n",
       "      <th>PHI</th>\n",
       "      <td>3</td>\n",
       "    </tr>\n",
       "    <tr>\n",
       "      <th>...</th>\n",
       "      <td>...</td>\n",
       "    </tr>\n",
       "    <tr>\n",
       "      <th>EPDM</th>\n",
       "      <td>162</td>\n",
       "    </tr>\n",
       "    <tr>\n",
       "      <th>SVC</th>\n",
       "      <td>190</td>\n",
       "    </tr>\n",
       "    <tr>\n",
       "      <th>ECTR</th>\n",
       "      <td>224</td>\n",
       "    </tr>\n",
       "    <tr>\n",
       "      <th>SIE</th>\n",
       "      <td>264</td>\n",
       "    </tr>\n",
       "    <tr>\n",
       "      <th>DM</th>\n",
       "      <td>349</td>\n",
       "    </tr>\n",
       "  </tbody>\n",
       "</table>\n",
       "<p>171 rows × 1 columns</p>\n",
       "</div>"
      ],
      "text/plain": [
       "         index\n",
       "company       \n",
       "LEAR         3\n",
       "ZF           3\n",
       "ADMINUI      3\n",
       "THO          3\n",
       "PHI          3\n",
       "...        ...\n",
       "EPDM       162\n",
       "SVC        190\n",
       "ECTR       224\n",
       "SIE        264\n",
       "DM         349\n",
       "\n",
       "[171 rows x 1 columns]"
      ]
     },
     "execution_count": 437,
     "metadata": {},
     "output_type": "execute_result"
    }
   ],
   "source": [
    "dtf_train[\"company\"].reset_index().groupby(\"company\").count().sort_values(by=\"index\")"
   ]
  },
  {
   "cell_type": "code",
   "execution_count": 1,
   "metadata": {},
   "outputs": [
    {
     "ename": "NameError",
     "evalue": "name 'feature_extraction' is not defined",
     "output_type": "error",
     "traceback": [
      "\u001b[1;31m---------------------------------------------------------------------------\u001b[0m",
      "\u001b[1;31mNameError\u001b[0m                                 Traceback (most recent call last)",
      "\u001b[1;32m<ipython-input-1-ee9b0da15fe2>\u001b[0m in \u001b[0;36m<module>\u001b[1;34m\u001b[0m\n\u001b[0;32m      1\u001b[0m \u001b[1;31m## Tf-Idf (advanced variant of BoW)\u001b[0m\u001b[1;33m\u001b[0m\u001b[1;33m\u001b[0m\u001b[1;33m\u001b[0m\u001b[0m\n\u001b[1;32m----> 2\u001b[1;33m \u001b[0mvectorizer\u001b[0m \u001b[1;33m=\u001b[0m \u001b[0mfeature_extraction\u001b[0m\u001b[1;33m.\u001b[0m\u001b[0mtext\u001b[0m\u001b[1;33m.\u001b[0m\u001b[0mTfidfVectorizer\u001b[0m\u001b[1;33m(\u001b[0m\u001b[0mmax_features\u001b[0m\u001b[1;33m=\u001b[0m\u001b[1;36m10000\u001b[0m\u001b[1;33m,\u001b[0m \u001b[0mngram_range\u001b[0m\u001b[1;33m=\u001b[0m\u001b[1;33m(\u001b[0m\u001b[1;36m1\u001b[0m\u001b[1;33m,\u001b[0m\u001b[1;36m2\u001b[0m\u001b[1;33m)\u001b[0m\u001b[1;33m)\u001b[0m\u001b[1;33m\u001b[0m\u001b[1;33m\u001b[0m\u001b[0m\n\u001b[0m",
      "\u001b[1;31mNameError\u001b[0m: name 'feature_extraction' is not defined"
     ]
    }
   ],
   "source": [
    "## Tf-Idf (advanced variant of BoW)\n",
    "vectorizer = feature_extraction.text.TfidfVectorizer(max_features=10000, ngram_range=(1,2))"
   ]
  },
  {
   "cell_type": "code",
   "execution_count": 411,
   "metadata": {},
   "outputs": [],
   "source": [
    "corpus = dtf_train[\"text_clean\"]"
   ]
  },
  {
   "cell_type": "code",
   "execution_count": 412,
   "metadata": {},
   "outputs": [],
   "source": [
    "vectorizer.fit(corpus)\n",
    "X_train = vectorizer.transform(corpus)\n",
    "dic_vocabulary = vectorizer.vocabulary_"
   ]
  },
  {
   "cell_type": "code",
   "execution_count": 413,
   "metadata": {},
   "outputs": [],
   "source": [
    "# отбор признаков для уменьшения размерности матрицы с помощью хи-квадрат"
   ]
  },
  {
   "cell_type": "code",
   "execution_count": 414,
   "metadata": {},
   "outputs": [],
   "source": [
    "y = dtf_train[\"company\"]\n",
    "X_names = vectorizer.get_feature_names()\n",
    "p_value_limit = 0.0001\n",
    "dtf_features = pd.DataFrame()\n",
    "for cat in np.unique(y):\n",
    "    chi2, p = feature_selection.chi2(X_train, y==cat)\n",
    "    dtf_features = dtf_features.append(pd.DataFrame(\n",
    "                   {\"feature\":X_names, \"score\":p, \"y\":cat}))\n",
    "    dtf_features = dtf_features.sort_values([\"y\",\"score\"], \n",
    "                    ascending=[True,False])\n",
    "    dtf_features = dtf_features[dtf_features[\"score\"]<p_value_limit]\n",
    "X_names = dtf_features[\"feature\"].unique().tolist()"
   ]
  },
  {
   "cell_type": "code",
   "execution_count": 415,
   "metadata": {},
   "outputs": [],
   "source": [
    "vectorizer = feature_extraction.text.TfidfVectorizer(vocabulary=X_names)\n",
    "vectorizer.fit(corpus)\n",
    "X_train = vectorizer.transform(corpus)\n",
    "dic_vocabulary = vectorizer.vocabulary_"
   ]
  },
  {
   "cell_type": "code",
   "execution_count": 416,
   "metadata": {},
   "outputs": [
    {
     "data": {
      "text/plain": [
       "(5736, 4978)"
      ]
     },
     "execution_count": 416,
     "metadata": {},
     "output_type": "execute_result"
    }
   ],
   "source": [
    "X_train.shape"
   ]
  },
  {
   "cell_type": "code",
   "execution_count": 417,
   "metadata": {},
   "outputs": [],
   "source": [
    "# naive bayes classifier"
   ]
  },
  {
   "cell_type": "code",
   "execution_count": 418,
   "metadata": {},
   "outputs": [],
   "source": [
    "classifier = naive_bayes.MultinomialNB()"
   ]
  },
  {
   "cell_type": "code",
   "execution_count": 419,
   "metadata": {},
   "outputs": [],
   "source": [
    "X_test = dtf_test[\"text_clean\"].values"
   ]
  },
  {
   "cell_type": "code",
   "execution_count": 420,
   "metadata": {},
   "outputs": [
    {
     "data": {
      "text/plain": [
       "array(['FILL', 'ZZZM', 'EPDM', ..., 'PDX', 'CAR', 'ASM'], dtype=object)"
      ]
     },
     "execution_count": 420,
     "metadata": {},
     "output_type": "execute_result"
    }
   ],
   "source": [
    "y_train"
   ]
  },
  {
   "cell_type": "code",
   "execution_count": 421,
   "metadata": {},
   "outputs": [
    {
     "data": {
      "text/plain": [
       "(5736,)"
      ]
     },
     "execution_count": 421,
     "metadata": {},
     "output_type": "execute_result"
    }
   ],
   "source": [
    "y_train.shape"
   ]
  },
  {
   "cell_type": "code",
   "execution_count": 422,
   "metadata": {},
   "outputs": [],
   "source": [
    "sampling = {}"
   ]
  },
  {
   "cell_type": "code",
   "execution_count": 423,
   "metadata": {},
   "outputs": [],
   "source": [
    "for c in n_companies_dict_en.keys():\n",
    "    sampling[c] = max(100,n_companies_dict_en[c])"
   ]
  },
  {
   "cell_type": "code",
   "execution_count": 424,
   "metadata": {},
   "outputs": [
    {
     "data": {
      "text/plain": [
       "{'ZF': 100,\n",
       " 'LEAR': 100,\n",
       " 'SDTOSNX': 100,\n",
       " 'PHI': 100,\n",
       " 'THO': 100,\n",
       " 'METRO': 100,\n",
       " 'ADMINUI': 100,\n",
       " 'SUP': 100,\n",
       " 'CSTOSNX': 100,\n",
       " 'PSB': 100,\n",
       " 'BKH': 100,\n",
       " 'CSCH': 100,\n",
       " 'DEMATIC': 100,\n",
       " 'ORTOSNX': 100,\n",
       " 'PADSTOSNX': 100,\n",
       " 'FRE': 100,\n",
       " 'XPLM': 100,\n",
       " 'DEVOPS': 100,\n",
       " 'LMO': 100,\n",
       " 'WWERK': 100,\n",
       " 'TEST': 100,\n",
       " 'FINCAD': 100,\n",
       " 'ISP': 100,\n",
       " 'COM': 100,\n",
       " 'INF': 100,\n",
       " 'PULSONIXTOSNX': 100,\n",
       " 'SLOAN': 100,\n",
       " 'OTTOBOCK': 100,\n",
       " 'PDX': 100,\n",
       " 'ITEL': 100,\n",
       " 'LEGO': 100,\n",
       " 'MAG': 100,\n",
       " 'STORENGY': 100,\n",
       " 'CHDLTOSNX': 100,\n",
       " 'REGA': 100,\n",
       " 'ELE': 100,\n",
       " 'DITTEL': 100,\n",
       " 'MENTOREXTR': 100,\n",
       " 'ASS': 100,\n",
       " 'HOLCIM': 100,\n",
       " 'AQUA': 100,\n",
       " 'VB': 100,\n",
       " 'KOIKE': 100,\n",
       " 'OMM': 100,\n",
       " 'ERBE': 100,\n",
       " 'HYDR': 100,\n",
       " 'LANDISGYR': 100,\n",
       " 'LEO': 100,\n",
       " 'KAL': 100,\n",
       " 'EST': 100,\n",
       " 'KOL': 100,\n",
       " 'MG': 100,\n",
       " 'FESTO': 100,\n",
       " 'MATRIX': 100,\n",
       " 'BEC': 100,\n",
       " 'PROTELTOSNX': 100,\n",
       " 'RHE': 100,\n",
       " 'RUH': 100,\n",
       " 'VRAIL': 100,\n",
       " 'CNTRO': 100,\n",
       " 'ADV': 100,\n",
       " 'HAR': 100,\n",
       " 'INSP': 100,\n",
       " 'DOM': 100,\n",
       " 'GLUTH': 100,\n",
       " 'VAT': 100,\n",
       " 'VT': 100,\n",
       " 'SIM': 100,\n",
       " 'HOL': 100,\n",
       " 'ONTEC': 100,\n",
       " 'FAMECC': 100,\n",
       " 'IHC': 100,\n",
       " 'IPI': 100,\n",
       " 'REI': 100,\n",
       " 'DMS': 100,\n",
       " 'HP': 100,\n",
       " 'LAB': 100,\n",
       " 'BDT': 100,\n",
       " 'PROR': 100,\n",
       " 'DRA': 100,\n",
       " 'WERMA': 100,\n",
       " 'UEC': 100,\n",
       " 'SMP': 100,\n",
       " 'EMR': 100,\n",
       " 'LAEMPE': 100,\n",
       " 'VIT': 100,\n",
       " 'ZEP': 100,\n",
       " 'KGS': 100,\n",
       " 'PROCAD': 100,\n",
       " 'TKP': 100,\n",
       " 'MKB': 100,\n",
       " 'VSMN': 100,\n",
       " 'FRECH': 100,\n",
       " 'CRE': 100,\n",
       " 'IKA': 100,\n",
       " 'WASHTEC': 100,\n",
       " 'BULT': 100,\n",
       " 'BROOKS': 100,\n",
       " 'HWEBER': 100,\n",
       " 'MANZ': 100,\n",
       " 'ERCO': 100,\n",
       " 'EWZ': 100,\n",
       " 'DXTOSNX': 100,\n",
       " 'BESI': 100,\n",
       " 'CONTACT': 100,\n",
       " 'KUKA': 100,\n",
       " 'ISG': 100,\n",
       " 'ACH': 100,\n",
       " 'ALP': 100,\n",
       " 'BAH': 100,\n",
       " 'MAREL': 100,\n",
       " 'SW': 100,\n",
       " 'STRATEC': 100,\n",
       " 'SPRP': 100,\n",
       " 'SOR': 100,\n",
       " 'MID': 100,\n",
       " 'TESTIT': 100,\n",
       " 'LMD': 100,\n",
       " 'ACTIA': 100,\n",
       " 'CUBIC': 100,\n",
       " 'SEW': 100,\n",
       " 'AR': 100,\n",
       " 'SAT': 100,\n",
       " 'MITLL': 100,\n",
       " 'ASYS': 100,\n",
       " 'DRAPER': 100,\n",
       " 'STRAMA': 100,\n",
       " 'FILL': 100,\n",
       " 'SDR': 100,\n",
       " 'MOOG': 100,\n",
       " 'SWA': 100,\n",
       " 'WILO': 100,\n",
       " 'WTT': 100,\n",
       " 'BMN': 100,\n",
       " 'WALD': 100,\n",
       " 'VMI': 100,\n",
       " 'PGS': 100,\n",
       " 'JUNKER': 100,\n",
       " 'CDS': 100,\n",
       " 'DIONEX': 100,\n",
       " 'METSO': 100,\n",
       " 'THY': 100,\n",
       " 'HER': 100,\n",
       " 'ADS': 100,\n",
       " 'DFF': 100,\n",
       " 'DS': 100,\n",
       " 'SAU': 100,\n",
       " 'OER': 100,\n",
       " 'ZZZM': 100,\n",
       " 'HUI': 100,\n",
       " 'VOS': 100,\n",
       " 'ZEISS': 100,\n",
       " 'BU': 109,\n",
       " 'IMA': 116,\n",
       " 'TBN': 120,\n",
       " 'ARAS': 122,\n",
       " 'ZSA': 124,\n",
       " 'HDH': 133,\n",
       " 'PI': 137,\n",
       " 'CAR': 144,\n",
       " 'ASM': 146,\n",
       " 'SMIT': 169,\n",
       " 'TURCK': 179,\n",
       " 'OOTB': 185,\n",
       " 'PTC': 206,\n",
       " 'GRUNDFOS': 212,\n",
       " 'EPDM': 242,\n",
       " 'SVC': 284,\n",
       " 'ECTR': 335,\n",
       " 'SIE': 394,\n",
       " 'DM': 521}"
      ]
     },
     "execution_count": 424,
     "metadata": {},
     "output_type": "execute_result"
    }
   ],
   "source": [
    "sampling"
   ]
  },
  {
   "cell_type": "code",
   "execution_count": 425,
   "metadata": {},
   "outputs": [],
   "source": [
    "oversampler=SMOTE(k_neighbors = 2,sampling_strategy=sampling)"
   ]
  },
  {
   "cell_type": "code",
   "execution_count": 426,
   "metadata": {},
   "outputs": [
    {
     "name": "stderr",
     "output_type": "stream",
     "text": [
      "C:\\Users\\Elena\\anaconda3\\lib\\site-packages\\imblearn\\utils\\_validation.py:300: UserWarning: After over-sampling, the number of samples (394) in class SIE will be larger than the number of samples in the majority class (class #DM -> 349)\n",
      "  f\"After over-sampling, the number of samples ({n_samples})\"\n",
      "C:\\Users\\Elena\\anaconda3\\lib\\site-packages\\imblearn\\utils\\_validation.py:300: UserWarning: After over-sampling, the number of samples (521) in class DM will be larger than the number of samples in the majority class (class #DM -> 349)\n",
      "  f\"After over-sampling, the number of samples ({n_samples})\"\n"
     ]
    }
   ],
   "source": [
    "X_train, y_train = oversampler.fit_resample(X_train, y_train)"
   ]
  },
  {
   "cell_type": "code",
   "execution_count": 427,
   "metadata": {},
   "outputs": [
    {
     "data": {
      "text/plain": [
       "(19078, 4978)"
      ]
     },
     "execution_count": 427,
     "metadata": {},
     "output_type": "execute_result"
    }
   ],
   "source": [
    "X_train.shape"
   ]
  },
  {
   "cell_type": "code",
   "execution_count": 435,
   "metadata": {},
   "outputs": [
    {
     "data": {
      "text/plain": [
       "<19078x4978 sparse matrix of type '<class 'numpy.float64'>'\n",
       "\twith 331308 stored elements in Compressed Sparse Row format>"
      ]
     },
     "execution_count": 435,
     "metadata": {},
     "output_type": "execute_result"
    }
   ],
   "source": [
    "X_train"
   ]
  },
  {
   "cell_type": "code",
   "execution_count": 440,
   "metadata": {},
   "outputs": [],
   "source": [
    "## pipeline\n",
    "model = pipeline.Pipeline([(\"vectorizer\", vectorizer),\n",
    "                           (\"classifier\", classifier)])"
   ]
  },
  {
   "cell_type": "code",
   "execution_count": 428,
   "metadata": {},
   "outputs": [],
   "source": [
    "\n",
    "## train classifier\n",
    "model[\"classifier\"].fit(X_train, y_train)\n",
    "## test\n",
    "\n",
    "predicted = model.predict(X_test)\n",
    "predicted_prob = model.predict_proba(X_test)"
   ]
  },
  {
   "cell_type": "code",
   "execution_count": 429,
   "metadata": {},
   "outputs": [
    {
     "name": "stdout",
     "output_type": "stream",
     "text": [
      "Accuracy: 0.74\n",
      "Detail:\n",
      "               precision    recall  f1-score   support\n",
      "\n",
      "          ACH       0.91      0.77      0.83        13\n",
      "        ACTIA       1.00      0.69      0.81        16\n",
      "      ADMINUI       0.00      0.00      0.00         2\n",
      "          ADS       0.96      0.89      0.93        28\n",
      "          ADV       1.00      0.60      0.75         5\n",
      "          ALP       1.00      0.69      0.82        13\n",
      "         AQUA       0.67      0.50      0.57         4\n",
      "           AR       0.85      0.65      0.73        17\n",
      "         ARAS       1.00      0.20      0.33        40\n",
      "          ASM       0.98      0.83      0.90        48\n",
      "          ASS       1.00      1.00      1.00         4\n",
      "         ASYS       1.00      0.84      0.91        19\n",
      "          BAH       0.83      0.38      0.53        13\n",
      "          BDT       1.00      0.86      0.92         7\n",
      "          BEC       1.00      0.80      0.89         5\n",
      "         BESI       1.00      1.00      1.00        11\n",
      "          BKH       1.00      0.50      0.67         2\n",
      "          BMN       1.00      0.78      0.88        23\n",
      "       BROOKS       1.00      0.90      0.95        10\n",
      "           BU       1.00      0.64      0.78        36\n",
      "         BULT       0.80      0.80      0.80        10\n",
      "          CAR       0.98      0.90      0.93        48\n",
      "          CDS       1.00      0.46      0.63        26\n",
      "    CHDLTOSNX       1.00      0.67      0.80         3\n",
      "        CNTRO       0.83      1.00      0.91         5\n",
      "          COM       1.00      0.67      0.80         3\n",
      "      CONTACT       0.75      0.50      0.60        12\n",
      "          CRE       1.00      0.60      0.75        10\n",
      "         CSCH       0.20      0.50      0.29         2\n",
      "      CSTOSNX       0.33      0.50      0.40         2\n",
      "        CUBIC       0.88      0.44      0.58        16\n",
      "      DEMATIC       1.00      0.50      0.67         2\n",
      "       DEVOPS       0.00      0.00      0.00         2\n",
      "          DFF       1.00      0.96      0.98        28\n",
      "       DIONEX       0.95      0.78      0.86        27\n",
      "       DITTEL       0.00      0.00      0.00         3\n",
      "           DM       0.49      0.99      0.65       172\n",
      "          DMS       1.00      0.43      0.60         7\n",
      "          DOM       0.00      0.00      0.00         6\n",
      "          DRA       1.00      0.50      0.67         8\n",
      "       DRAPER       0.89      0.89      0.89        19\n",
      "           DS       1.00      0.86      0.93        29\n",
      "      DXTOSNX       0.77      0.91      0.83        11\n",
      "         ECTR       0.45      0.90      0.60       111\n",
      "          ELE       0.00      0.00      0.00         3\n",
      "          EMR       1.00      0.62      0.77         8\n",
      "         EPDM       0.92      0.97      0.95        80\n",
      "         ERBE       0.43      0.75      0.55         4\n",
      "         ERCO       1.00      0.64      0.78        11\n",
      "          EST       0.33      0.60      0.43         5\n",
      "          EWZ       0.75      0.82      0.78        11\n",
      "       FAMECC       1.00      0.83      0.91         6\n",
      "        FESTO       0.71      1.00      0.83         5\n",
      "         FILL       1.00      0.60      0.75        20\n",
      "       FINCAD       0.00      0.00      0.00         3\n",
      "          FRE       0.00      0.00      0.00         2\n",
      "        FRECH       1.00      1.00      1.00        10\n",
      "        GLUTH       0.62      0.83      0.71         6\n",
      "     GRUNDFOS       0.90      0.91      0.91        70\n",
      "          HAR       0.62      1.00      0.77         5\n",
      "          HDH       1.00      0.64      0.78        44\n",
      "          HER       1.00      0.79      0.88        28\n",
      "          HOL       0.43      0.50      0.46         6\n",
      "       HOLCIM       1.00      1.00      1.00         4\n",
      "           HP       0.75      0.43      0.55         7\n",
      "          HUI       0.95      0.61      0.75        31\n",
      "       HWEBER       1.00      0.70      0.82        10\n",
      "         HYDR       0.60      0.75      0.67         4\n",
      "          IHC       0.67      0.33      0.44         6\n",
      "          IKA       0.86      0.60      0.71        10\n",
      "          IMA       0.97      0.87      0.92        38\n",
      "          INF       0.00      0.00      0.00         3\n",
      "         INSP       0.62      1.00      0.77         5\n",
      "          IPI       0.40      0.29      0.33         7\n",
      "          ISG       1.00      0.42      0.59        12\n",
      "          ISP       0.00      0.00      0.00         3\n",
      "         ITEL       0.33      0.67      0.44         3\n",
      "       JUNKER       1.00      0.88      0.94        25\n",
      "          KAL       0.56      1.00      0.71         5\n",
      "          KGS       0.67      1.00      0.80         8\n",
      "        KOIKE       1.00      0.25      0.40         4\n",
      "          KOL       1.00      0.80      0.89         5\n",
      "         KUKA       1.00      0.58      0.74        12\n",
      "          LAB       0.83      0.71      0.77         7\n",
      "       LAEMPE       1.00      0.75      0.86         8\n",
      "    LANDISGYR       0.00      0.00      0.00         4\n",
      "         LEAR       0.00      0.00      0.00         1\n",
      "         LEGO       1.00      0.33      0.50         3\n",
      "          LEO       1.00      0.80      0.89         5\n",
      "          LMD       1.00      0.87      0.93        15\n",
      "          LMO       0.00      0.00      0.00         2\n",
      "          MAG       1.00      0.33      0.50         3\n",
      "         MANZ       1.00      0.91      0.95        11\n",
      "        MAREL       1.00      0.79      0.88        14\n",
      "       MATRIX       0.00      0.00      0.00         5\n",
      "   MENTOREXTR       0.80      1.00      0.89         4\n",
      "        METRO       0.04      0.50      0.08         2\n",
      "        METSO       1.00      0.74      0.85        27\n",
      "           MG       1.00      0.80      0.89         5\n",
      "          MID       1.00      0.67      0.80        15\n",
      "        MITLL       1.00      0.67      0.80        18\n",
      "          MKB       0.86      0.67      0.75         9\n",
      "         MOOG       1.00      0.95      0.97        20\n",
      "          OER       1.00      0.57      0.72        30\n",
      "          OMM       0.50      0.75      0.60         4\n",
      "        ONTEC       0.67      1.00      0.80         6\n",
      "         OOTB       0.79      0.62      0.70        61\n",
      "      ORTOSNX       0.67      1.00      0.80         2\n",
      "     OTTOBOCK       0.50      0.67      0.57         3\n",
      "    PADSTOSNX       0.00      0.00      0.00         2\n",
      "          PDX       0.00      0.00      0.00         3\n",
      "          PGS       1.00      0.71      0.83        24\n",
      "          PHI       0.00      0.00      0.00         1\n",
      "           PI       0.97      0.76      0.85        45\n",
      "       PROCAD       0.29      0.25      0.27         8\n",
      "         PROR       1.00      0.29      0.44         7\n",
      "  PROTELTOSNX       0.80      0.80      0.80         5\n",
      "          PSB       0.00      0.00      0.00         2\n",
      "          PTC       0.79      0.66      0.72        68\n",
      "PULSONIXTOSNX       0.75      1.00      0.86         3\n",
      "         REGA       0.75      1.00      0.86         3\n",
      "          REI       0.07      0.14      0.09         7\n",
      "          RHE       0.60      0.60      0.60         5\n",
      "          RUH       0.75      0.60      0.67         5\n",
      "          SAT       1.00      0.61      0.76        18\n",
      "          SAU       1.00      0.66      0.79        29\n",
      "          SDR       1.00      0.70      0.82        20\n",
      "      SDTOSNX       0.00      0.00      0.00         1\n",
      "          SEW       1.00      0.41      0.58        17\n",
      "          SIE       0.61      0.98      0.75       130\n",
      "          SIM       1.00      0.17      0.29         6\n",
      "        SLOAN       0.00      0.00      0.00         3\n",
      "         SMIT       0.89      0.89      0.89        56\n",
      "          SMP       1.00      0.50      0.67         8\n",
      "          SOR       1.00      0.53      0.70        15\n",
      "         SPRP       1.00      0.80      0.89        15\n",
      "     STORENGY       0.40      0.67      0.50         3\n",
      "       STRAMA       0.94      0.80      0.86        20\n",
      "      STRATEC       0.90      0.60      0.72        15\n",
      "          SUP       0.00      0.00      0.00         2\n",
      "          SVC       0.53      0.68      0.60        94\n",
      "           SW       0.76      0.93      0.84        14\n",
      "          SWA       1.00      0.68      0.81        22\n",
      "          TBN       0.79      0.75      0.77        40\n",
      "         TEST       0.50      0.67      0.57         3\n",
      "       TESTIT       1.00      0.07      0.12        15\n",
      "          THO       0.00      0.00      0.00         1\n",
      "          THY       0.96      0.86      0.91        28\n",
      "          TKP       0.89      0.89      0.89         9\n",
      "        TURCK       0.80      0.81      0.81        59\n",
      "          UEC       0.83      0.62      0.71         8\n",
      "          VAT       1.00      0.83      0.91         6\n",
      "           VB       0.43      0.75      0.55         4\n",
      "          VIT       0.70      0.88      0.78         8\n",
      "          VMI       1.00      0.83      0.91        24\n",
      "          VOS       1.00      0.72      0.84        32\n",
      "        VRAIL       0.17      0.60      0.26         5\n",
      "         VSMN       0.80      0.44      0.57         9\n",
      "           VT       0.50      0.83      0.62         6\n",
      "         WALD       1.00      0.52      0.69        23\n",
      "      WASHTEC       0.73      0.80      0.76        10\n",
      "        WERMA       0.80      0.50      0.62         8\n",
      "         WILO       1.00      0.36      0.53        22\n",
      "          WTT       1.00      0.91      0.95        23\n",
      "        WWERK       0.00      0.00      0.00         2\n",
      "         XPLM       0.00      0.00      0.00         2\n",
      "        ZEISS       1.00      0.84      0.92        32\n",
      "          ZEP       0.67      1.00      0.80         8\n",
      "           ZF       0.00      0.00      0.00         1\n",
      "          ZSA       0.73      0.46      0.57        41\n",
      "         ZZZM       0.94      0.57      0.71        30\n",
      "\n",
      "     accuracy                           0.74      2826\n",
      "    macro avg       0.72      0.60      0.62      2826\n",
      " weighted avg       0.82      0.74      0.74      2826\n",
      "\n"
     ]
    },
    {
     "name": "stderr",
     "output_type": "stream",
     "text": [
      "C:\\Users\\Elena\\anaconda3\\lib\\site-packages\\sklearn\\metrics\\_classification.py:1248: UndefinedMetricWarning: Precision and F-score are ill-defined and being set to 0.0 in labels with no predicted samples. Use `zero_division` parameter to control this behavior.\n",
      "  _warn_prf(average, modifier, msg_start, len(result))\n",
      "C:\\Users\\Elena\\anaconda3\\lib\\site-packages\\sklearn\\metrics\\_classification.py:1248: UndefinedMetricWarning: Precision and F-score are ill-defined and being set to 0.0 in labels with no predicted samples. Use `zero_division` parameter to control this behavior.\n",
      "  _warn_prf(average, modifier, msg_start, len(result))\n",
      "C:\\Users\\Elena\\anaconda3\\lib\\site-packages\\sklearn\\metrics\\_classification.py:1248: UndefinedMetricWarning: Precision and F-score are ill-defined and being set to 0.0 in labels with no predicted samples. Use `zero_division` parameter to control this behavior.\n",
      "  _warn_prf(average, modifier, msg_start, len(result))\n"
     ]
    }
   ],
   "source": [
    "## Accuracy, Precision, Recall\n",
    "accuracy = metrics.accuracy_score(y_test, predicted)\n",
    "\n",
    "print(\"Accuracy:\",  round(accuracy,2))\n",
    "\n",
    "print(\"Detail:\")\n",
    "print(metrics.classification_report(y_test, predicted))\n",
    "    "
   ]
  },
  {
   "cell_type": "code",
   "execution_count": 355,
   "metadata": {},
   "outputs": [],
   "source": [
    "# SVM"
   ]
  },
  {
   "cell_type": "code",
   "execution_count": 430,
   "metadata": {},
   "outputs": [],
   "source": [
    "classifier_svm = svm.SVC(kernel='linear',  probability=True)"
   ]
  },
  {
   "cell_type": "code",
   "execution_count": 431,
   "metadata": {},
   "outputs": [],
   "source": [
    "## pipeline\n",
    "model_svm = Pipeline([(\"vectorizer\", vectorizer),\n",
    "                           (\"classifier\", classifier_svm)])"
   ]
  },
  {
   "cell_type": "code",
   "execution_count": 432,
   "metadata": {},
   "outputs": [
    {
     "data": {
      "text/plain": [
       "SVC(kernel='linear', probability=True)"
      ]
     },
     "execution_count": 432,
     "metadata": {},
     "output_type": "execute_result"
    }
   ],
   "source": [
    "# fit the training dataset on the classifier\n",
    "model_svm[\"classifier\"].fit(X_train,y_train)"
   ]
  },
  {
   "cell_type": "code",
   "execution_count": 433,
   "metadata": {},
   "outputs": [
    {
     "name": "stdout",
     "output_type": "stream",
     "text": [
      "['SVC' 'PTC' 'LAEMPE' ... 'DIONEX' 'GRUNDFOS' 'DM']\n"
     ]
    }
   ],
   "source": [
    "# predict the labels on validation dataset\n",
    "predicted_svm = model_svm.predict(X_test)\n",
    "print(predicted_svm)"
   ]
  },
  {
   "cell_type": "code",
   "execution_count": 434,
   "metadata": {},
   "outputs": [
    {
     "name": "stderr",
     "output_type": "stream",
     "text": [
      "C:\\Users\\Elena\\anaconda3\\lib\\site-packages\\sklearn\\metrics\\_classification.py:1248: UndefinedMetricWarning: Precision and F-score are ill-defined and being set to 0.0 in labels with no predicted samples. Use `zero_division` parameter to control this behavior.\n",
      "  _warn_prf(average, modifier, msg_start, len(result))\n"
     ]
    },
    {
     "name": "stdout",
     "output_type": "stream",
     "text": [
      "               precision    recall  f1-score   support\n",
      "\n",
      "          ACH       0.77      0.77      0.77        13\n",
      "        ACTIA       0.87      0.81      0.84        16\n",
      "      ADMINUI       0.00      0.00      0.00         2\n",
      "          ADS       0.96      0.89      0.93        28\n",
      "          ADV       0.80      0.80      0.80         5\n",
      "          ALP       0.73      0.62      0.67        13\n",
      "         AQUA       1.00      0.50      0.67         4\n",
      "           AR       0.73      0.65      0.69        17\n",
      "         ARAS       0.58      0.47      0.52        40\n",
      "          ASM       0.96      0.92      0.94        48\n",
      "          ASS       1.00      1.00      1.00         4\n",
      "         ASYS       0.95      0.95      0.95        19\n",
      "          BAH       0.89      0.62      0.73        13\n",
      "          BDT       1.00      0.86      0.92         7\n",
      "          BEC       0.80      0.80      0.80         5\n",
      "         BESI       1.00      1.00      1.00        11\n",
      "          BKH       1.00      0.50      0.67         2\n",
      "          BMN       0.95      0.87      0.91        23\n",
      "       BROOKS       1.00      0.90      0.95        10\n",
      "           BU       0.89      0.69      0.78        36\n",
      "         BULT       0.64      0.90      0.75        10\n",
      "          CAR       0.96      0.92      0.94        48\n",
      "          CDS       0.88      0.85      0.86        26\n",
      "    CHDLTOSNX       0.75      1.00      0.86         3\n",
      "        CNTRO       1.00      0.80      0.89         5\n",
      "          COM       1.00      0.67      0.80         3\n",
      "      CONTACT       0.75      0.75      0.75        12\n",
      "          CRE       1.00      0.70      0.82        10\n",
      "         CSCH       1.00      0.50      0.67         2\n",
      "      CSTOSNX       1.00      0.50      0.67         2\n",
      "        CUBIC       0.92      0.75      0.83        16\n",
      "      DEMATIC       0.00      0.00      0.00         2\n",
      "       DEVOPS       0.00      0.00      0.00         2\n",
      "          DFF       1.00      0.93      0.96        28\n",
      "       DIONEX       0.74      0.85      0.79        27\n",
      "       DITTEL       0.00      0.00      0.00         3\n",
      "           DM       0.72      0.95      0.82       172\n",
      "          DMS       0.27      0.57      0.36         7\n",
      "          DOM       0.25      0.17      0.20         6\n",
      "          DRA       1.00      0.62      0.77         8\n",
      "       DRAPER       0.76      1.00      0.86        19\n",
      "           DS       0.97      0.97      0.97        29\n",
      "      DXTOSNX       1.00      0.82      0.90        11\n",
      "         ECTR       0.67      0.83      0.74       111\n",
      "          ELE       0.00      0.00      0.00         3\n",
      "          EMR       1.00      0.75      0.86         8\n",
      "         EPDM       0.97      0.93      0.95        80\n",
      "         ERBE       0.67      1.00      0.80         4\n",
      "         ERCO       0.89      0.73      0.80        11\n",
      "          EST       0.33      0.60      0.43         5\n",
      "          EWZ       0.82      0.82      0.82        11\n",
      "       FAMECC       0.71      0.83      0.77         6\n",
      "        FESTO       0.62      1.00      0.77         5\n",
      "         FILL       0.82      0.70      0.76        20\n",
      "       FINCAD       0.00      0.00      0.00         3\n",
      "          FRE       0.00      0.00      0.00         2\n",
      "        FRECH       1.00      1.00      1.00        10\n",
      "        GLUTH       0.83      0.83      0.83         6\n",
      "     GRUNDFOS       1.00      0.90      0.95        70\n",
      "          HAR       0.80      0.80      0.80         5\n",
      "          HDH       0.82      0.84      0.83        44\n",
      "          HER       1.00      0.89      0.94        28\n",
      "          HOL       0.38      0.50      0.43         6\n",
      "       HOLCIM       1.00      1.00      1.00         4\n",
      "           HP       1.00      0.43      0.60         7\n",
      "          HUI       0.96      0.84      0.90        31\n",
      "       HWEBER       0.90      0.90      0.90        10\n",
      "         HYDR       1.00      0.50      0.67         4\n",
      "          IHC       0.75      0.50      0.60         6\n",
      "          IKA       1.00      0.60      0.75        10\n",
      "          IMA       1.00      1.00      1.00        38\n",
      "          INF       0.00      0.00      0.00         3\n",
      "         INSP       1.00      1.00      1.00         5\n",
      "          IPI       0.18      0.29      0.22         7\n",
      "          ISG       0.80      0.67      0.73        12\n",
      "          ISP       0.00      0.00      0.00         3\n",
      "         ITEL       1.00      0.33      0.50         3\n",
      "       JUNKER       1.00      0.88      0.94        25\n",
      "          KAL       1.00      1.00      1.00         5\n",
      "          KGS       1.00      0.88      0.93         8\n",
      "        KOIKE       0.50      0.25      0.33         4\n",
      "          KOL       1.00      0.60      0.75         5\n",
      "         KUKA       1.00      0.92      0.96        12\n",
      "          LAB       1.00      0.57      0.73         7\n",
      "       LAEMPE       1.00      1.00      1.00         8\n",
      "    LANDISGYR       0.67      0.50      0.57         4\n",
      "         LEAR       0.00      0.00      0.00         1\n",
      "         LEGO       0.25      0.33      0.29         3\n",
      "          LEO       1.00      0.80      0.89         5\n",
      "          LMD       0.67      0.93      0.78        15\n",
      "          LMO       0.00      0.00      0.00         2\n",
      "          MAG       1.00      0.33      0.50         3\n",
      "         MANZ       1.00      0.91      0.95        11\n",
      "        MAREL       1.00      0.93      0.96        14\n",
      "       MATRIX       0.22      0.40      0.29         5\n",
      "   MENTOREXTR       1.00      0.75      0.86         4\n",
      "        METRO       0.00      0.00      0.00         2\n",
      "        METSO       0.88      0.81      0.85        27\n",
      "           MG       1.00      0.60      0.75         5\n",
      "          MID       1.00      0.73      0.85        15\n",
      "        MITLL       0.78      0.78      0.78        18\n",
      "          MKB       1.00      0.78      0.88         9\n",
      "         MOOG       1.00      1.00      1.00        20\n",
      "          OER       0.96      0.87      0.91        30\n",
      "          OMM       1.00      0.75      0.86         4\n",
      "        ONTEC       1.00      0.67      0.80         6\n",
      "         OOTB       0.68      0.56      0.61        61\n",
      "      ORTOSNX       1.00      0.50      0.67         2\n",
      "     OTTOBOCK       1.00      0.33      0.50         3\n",
      "    PADSTOSNX       0.00      0.00      0.00         2\n",
      "          PDX       0.00      0.00      0.00         3\n",
      "          PGS       1.00      0.83      0.91        24\n",
      "          PHI       0.00      0.00      0.00         1\n",
      "           PI       0.97      0.80      0.88        45\n",
      "       PROCAD       0.38      0.38      0.38         8\n",
      "         PROR       1.00      0.29      0.44         7\n",
      "  PROTELTOSNX       1.00      0.80      0.89         5\n",
      "          PSB       0.00      0.00      0.00         2\n",
      "          PTC       0.59      0.79      0.68        68\n",
      "PULSONIXTOSNX       0.75      1.00      0.86         3\n",
      "         REGA       0.50      0.67      0.57         3\n",
      "          REI       0.00      0.00      0.00         7\n",
      "          RHE       1.00      0.80      0.89         5\n",
      "          RUH       1.00      0.80      0.89         5\n",
      "          SAT       1.00      0.67      0.80        18\n",
      "          SAU       0.96      0.83      0.89        29\n",
      "          SDR       0.71      0.85      0.77        20\n",
      "      SDTOSNX       0.00      0.00      0.00         1\n",
      "          SEW       1.00      0.59      0.74        17\n",
      "          SIE       0.92      0.97      0.94       130\n",
      "          SIM       0.50      0.17      0.25         6\n",
      "        SLOAN       0.00      0.00      0.00         3\n",
      "         SMIT       0.96      0.91      0.94        56\n",
      "          SMP       0.80      1.00      0.89         8\n",
      "          SOR       1.00      0.60      0.75        15\n",
      "         SPRP       0.93      0.93      0.93        15\n",
      "     STORENGY       0.18      0.67      0.29         3\n",
      "       STRAMA       0.74      0.85      0.79        20\n",
      "      STRATEC       0.87      0.87      0.87        15\n",
      "          SUP       0.00      0.00      0.00         2\n",
      "          SVC       0.49      0.70      0.57        94\n",
      "           SW       0.92      0.86      0.89        14\n",
      "          SWA       1.00      0.86      0.93        22\n",
      "          TBN       0.89      0.85      0.87        40\n",
      "         TEST       0.00      0.00      0.00         3\n",
      "       TESTIT       0.71      0.67      0.69        15\n",
      "          THO       0.00      0.00      0.00         1\n",
      "          THY       1.00      0.86      0.92        28\n",
      "          TKP       1.00      0.89      0.94         9\n",
      "        TURCK       0.79      0.75      0.77        59\n",
      "          UEC       1.00      0.75      0.86         8\n",
      "          VAT       1.00      0.83      0.91         6\n",
      "           VB       1.00      0.75      0.86         4\n",
      "          VIT       0.60      0.75      0.67         8\n",
      "          VMI       0.92      0.96      0.94        24\n",
      "          VOS       0.87      0.84      0.86        32\n",
      "        VRAIL       1.00      0.40      0.57         5\n",
      "         VSMN       0.83      0.56      0.67         9\n",
      "           VT       1.00      0.67      0.80         6\n",
      "         WALD       1.00      0.78      0.88        23\n",
      "      WASHTEC       1.00      0.80      0.89        10\n",
      "        WERMA       0.83      0.62      0.71         8\n",
      "         WILO       0.74      0.64      0.68        22\n",
      "          WTT       0.91      0.91      0.91        23\n",
      "        WWERK       0.00      0.00      0.00         2\n",
      "         XPLM       0.00      0.00      0.00         2\n",
      "        ZEISS       0.97      0.94      0.95        32\n",
      "          ZEP       0.89      1.00      0.94         8\n",
      "           ZF       0.00      0.00      0.00         1\n",
      "          ZSA       0.40      0.68      0.50        41\n",
      "         ZZZM       0.79      0.77      0.78        30\n",
      "\n",
      "     accuracy                           0.80      2826\n",
      "    macro avg       0.73      0.64      0.66      2826\n",
      " weighted avg       0.82      0.80      0.80      2826\n",
      "\n"
     ]
    },
    {
     "name": "stderr",
     "output_type": "stream",
     "text": [
      "C:\\Users\\Elena\\anaconda3\\lib\\site-packages\\sklearn\\metrics\\_classification.py:1248: UndefinedMetricWarning: Precision and F-score are ill-defined and being set to 0.0 in labels with no predicted samples. Use `zero_division` parameter to control this behavior.\n",
      "  _warn_prf(average, modifier, msg_start, len(result))\n",
      "C:\\Users\\Elena\\anaconda3\\lib\\site-packages\\sklearn\\metrics\\_classification.py:1248: UndefinedMetricWarning: Precision and F-score are ill-defined and being set to 0.0 in labels with no predicted samples. Use `zero_division` parameter to control this behavior.\n",
      "  _warn_prf(average, modifier, msg_start, len(result))\n"
     ]
    }
   ],
   "source": [
    "\n",
    "print(metrics.classification_report(y_test, predicted_svm))\n",
    "    "
   ]
  },
  {
   "cell_type": "code",
   "execution_count": 186,
   "metadata": {},
   "outputs": [],
   "source": [
    "test_email = \"\"\"\n",
    "From: Walter, Martina\n",
    "Sent: Friday, February 23, 2018 2:30 PM\n",
    "To: support-ecad <support-ecad@xplm.com>\n",
    "Cc: Simmat, Renato <renato.simmat@xplm.com>; Wilke, Beate <beate.wilke@xplm.com>\n",
    "Subject: Urgent - Draeger Safety - Design Comparison\n",
    "Importance: High\n",
    "\n",
    " \n",
    "\n",
    "Hello,\n",
    "\n",
    " \n",
    "\n",
    "Mr. Meves from Draeger Safety called and asked for urgent support re Design Comparison:\n",
    "\n",
    "He has updated to Allegro 17.2 and Design Comparison does not work.\n",
    "\n",
    " \n",
    "\n",
    "Other issue:\n",
    "\n",
    "He need also a product package with release version which is installable.\n",
    "\n",
    "Right now they need to pick up different installations.\n",
    "\n",
    " \n",
    "\n",
    "I will also ask him to send log files or description if available.\n",
    "\n",
    " \n",
    "\n",
    "BR Martina\n",
    "\n",
    " \n",
    "\n",
    "Mit freundlichem Gruß / Best Regards\n",
    "\n",
    " \n",
    "\n",
    "Martina Walter\n",
    "\n",
    "Senior Business Administrator\n",
    "\n",
    " \n",
    "\n",
    "XPLM Solution GmbH\n",
    "\n",
    "Heinrich-Hertz-Str. 4\n",
    "\n",
    "79211 Denzlingen, Germany\n",
    "\n",
    "www.xplm.com\n",
    "\n",
    "martina.walter@xplm.com\n",
    "\n",
    " \n",
    "\n",
    "Office: +49 7666 90398-511 (neue Nummer) / Fax: +49 7666 90398-520\n",
    "\n",
    " \n",
    "\n",
    "Registergericht / Commercial Register Dresden: HRB 24804\n",
    "\n",
    "Geschäftsführer / Managing Directors: Rolf Pfenning, Karl Wachtel\n",
    "\n",
    " \n",
    "\n",
    "Der Inhalt dieser E-Mail ist vertraulich und ausschließlich für den bezeichneten Adressaten bestimmt. Wenn Sie nicht der vorgesehene Adressat dieser E-Mail oder dessen Vertreter sein sollten, so beachten Sie bitte, dass jede Form der Kenntnisnahme, Veröffentlichung, Vervielfältigung oder Weitergabe des Inhalts dieser Mail unzulässig ist. Wir bitten Sie, sich in diesem Fall mit dem Absender der E-Mail in Verbindung zu setzen.\n",
    "\n",
    " \n",
    "\n",
    "This e-mail message including any attachments is for the sole use of the intended recipient(s) and may contain privileged or confidential information. Any unauthorized review, use, disclosure or distribution is prohibited. If you are not the intended recipient, please immediately contact the sender by reply e-mail and delete the original message and destroy all copies thereof.\n",
    "\"\"\""
   ]
  },
  {
   "cell_type": "code",
   "execution_count": 187,
   "metadata": {},
   "outputs": [],
   "source": [
    "test_email_pr = preprocess_text(test_email, flg_stemm=True, flg_lemm=False, \n",
    "          lst_stopwords=lst_stopwords)"
   ]
  },
  {
   "cell_type": "code",
   "execution_count": 189,
   "metadata": {},
   "outputs": [
    {
     "data": {
      "text/plain": [
       "array(['DRA'], dtype=object)"
      ]
     },
     "execution_count": 189,
     "metadata": {},
     "output_type": "execute_result"
    }
   ],
   "source": [
    "model_svm.predict([test_email_pr])"
   ]
  },
  {
   "cell_type": "code",
   "execution_count": 190,
   "metadata": {},
   "outputs": [],
   "source": [
    "prob = model_svm.predict_proba([test_email_pr])"
   ]
  },
  {
   "cell_type": "code",
   "execution_count": 191,
   "metadata": {},
   "outputs": [
    {
     "name": "stdout",
     "output_type": "stream",
     "text": [
      "0.0009376505795686223 ACH\n",
      "0.0020258835301701574 ACTIA\n",
      "0.0003695894185841659 ADMINUI\n",
      "0.036497911015276635 ADS\n",
      "0.001081111481639749 ADV\n",
      "0.00021281905617563402 AGILE\n",
      "0.0015461523030676123 ALP\n",
      "0.0011735385374061157 AQUA\n",
      "0.0013655094312084932 AR\n",
      "0.0073966340745679595 ARAS\n",
      "0.002814444986074204 ASM\n",
      "0.00038886928690409035 ASS\n",
      "0.0052955704401456225 ASYS\n",
      "0.0021246663251300512 BAH\n",
      "0.0005317966315344788 BDT\n",
      "0.00027330078009509836 BEC\n",
      "0.0008603329810849167 BESI\n",
      "0.0004570104007559562 BKH\n",
      "0.002273635595468775 BMN\n",
      "0.000949202992501644 BROOKS\n",
      "0.00026076750460637504 BRUC\n",
      "0.0040445916412572315 BU\n",
      "0.004740963617813236 BULT\n",
      "0.005391308532029699 CAR\n",
      "0.002627760555896639 CDS\n",
      "0.0004778748867065665 CHDLTOSNX\n",
      "0.0012001851283771356 CNTRO\n",
      "0.0005771200519720606 COM\n",
      "0.0019091157031794399 CONTACT\n",
      "0.0009387841833685117 CRE\n",
      "0.00025701034336547246 CSCH\n",
      "0.0005023640261864442 CSTOSNX\n",
      "0.0011949931962610487 CUBIC\n",
      "0.0004678590404589153 DEMATIC\n",
      "0.00033537264536267494 DEVOPS\n",
      "0.00590036585563324 DFF\n",
      "0.003324394148877582 DIONEX\n",
      "0.0007388661739022139 DITTEL\n",
      "0.10094148986462824 DM\n",
      "0.0014197411474059134 DMS\n",
      "0.0013195982229246754 DOM\n",
      "0.230585785444594 DRA\n",
      "0.0013020546187763884 DRAPER\n",
      "0.005161755180493138 DS\n",
      "0.0008427723232043897 DXTOSNX\n",
      "0.02003453967221107 ECTR\n",
      "0.00019576112684568722 EGO\n",
      "0.00021898875865983297 ELB\n",
      "0.0008467463271973321 ELE\n",
      "0.0009674208177644142 EMR\n",
      "0.005653410918312284 EPDM\n",
      "0.0008607182259940274 ERBE\n",
      "0.001732955844339799 ERCO\n",
      "0.001202513378293731 EST\n",
      "0.0013804298852198589 EWZ\n",
      "0.001003260641195505 FAMECC\n",
      "0.00042132776655672097 FESTO\n",
      "0.0017816437197765746 FILL\n",
      "0.0003877167727187681 FINCAD\n",
      "0.00042197980342667177 FRE\n",
      "0.0004894220899862383 FRECH\n",
      "0.0007354736008518415 GLUTH\n",
      "0.0036061423592107567 GRUNDFOS\n",
      "0.00037634726001685534 GRVE\n",
      "0.0006501572339448347 HAR\n",
      "0.008379346852748923 HDH\n",
      "0.00418408801037967 HER\n",
      "0.0008825802750850804 HOL\n",
      "0.00048426157418493483 HOLCIM\n",
      "0.0013755089716380661 HP\n",
      "0.0042826355295195705 HUI\n",
      "0.0011042102471606151 HWEBER\n",
      "0.001369645568349057 HYDR\n",
      "0.0022000955325286935 IHC\n",
      "0.0010527779617719917 IKA\n",
      "0.00474271995538626 IMA\n",
      "0.0005433666705700261 INF\n",
      "0.0004032393927273675 INSP\n",
      "0.0029260913248097854 IPI\n",
      "0.002575549538467153 ISG\n",
      "0.0008139957582160223 ISP\n",
      "0.0008294120931692541 ITEL\n",
      "0.012031882148989075 JUNKER\n",
      "0.002327644229311838 KAL\n",
      "0.0007552350288546311 KGS\n",
      "0.001207023605055306 KOIKE\n",
      "0.00044785974408475675 KOL\n",
      "0.0024181728940202525 KUKA\n",
      "0.0021764208609784744 LAB\n",
      "0.0028514470270574674 LAEMPE\n",
      "0.0020441396835578995 LANDISGYR\n",
      "0.00042250683043818616 LEAR\n",
      "0.0005619616003337713 LEGO\n",
      "0.0006821619899864053 LEO\n",
      "0.002275374644724079 LMD\n",
      "0.0005686387844128756 LMO\n",
      "0.0008653004126547377 MAG\n",
      "0.0006802399059249515 MANZ\n",
      "0.0006290908698914676 MAREL\n",
      "0.011747429563480006 MATRIX\n",
      "0.00023490985200972782 MB\n",
      "0.0006239781141952813 MENTOREXTR\n",
      "0.00024147719075890512 METRO\n",
      "0.004683537279602067 METSO\n",
      "0.0003022862725833412 MG\n",
      "0.002930961406884803 MID\n",
      "0.002619131430121612 MITLL\n",
      "0.002214661395154219 MKB\n",
      "0.0013995150652004612 MOOG\n",
      "0.006246418900477222 OER\n",
      "0.0014751193810328056 OMM\n",
      "0.00044287104657700593 ONTEC\n",
      "0.011298970193211392 OOTB\n",
      "0.00046887748125057653 ORTOSNX\n",
      "0.0003826223905355106 OTTOBOCK\n",
      "0.00040538829319364413 PADSTOSNX\n",
      "0.0011007748940161553 PDX\n",
      "0.0017390329963666994 PGS\n",
      "0.00033119205550735697 PHI\n",
      "0.004180140854029574 PI\n",
      "0.002496032518075822 PROCAD\n",
      "0.004842640778011197 PROR\n",
      "0.0010577998705240173 PROTELTOSNX\n",
      "0.0003249522684350273 PSB\n",
      "0.00899373080838891 PTC\n",
      "0.00039927360169459325 PULSONIXTOSNX\n",
      "0.0005831813705800249 REGA\n",
      "0.0012506645662956723 REI\n",
      "0.001143644463745023 RHE\n",
      "0.0009960048285055827 RUH\n",
      "0.0028304378387216324 SAT\n",
      "0.0024335851443215463 SAU\n",
      "0.003754467383492955 SDR\n",
      "0.0005092797390880786 SDTOSNX\n",
      "0.004177767634396398 SEW\n",
      "0.09414397278509441 SIE\n",
      "0.002306039966484992 SIM\n",
      "0.0011552739940920542 SLOAN\n",
      "0.004617833246249891 SMIT\n",
      "0.00990836632091362 SMP\n",
      "0.0036069662765104435 SOR\n",
      "0.0043607579248942235 SPRP\n",
      "0.00039956263100214095 STORENGY\n",
      "0.009866200022644793 STRAMA\n",
      "0.002796405913423926 STRATEC\n",
      "0.0003570123742355112 SUP\n",
      "0.037434205288420834 SVC\n",
      "0.00241873846557591 SW\n",
      "0.002399414139821407 SWA\n",
      "0.024188253798034638 TBN\n",
      "0.00023830991037726768 TEST\n",
      "0.004890334275780661 TESTIT\n",
      "0.0003426725467904144 THO\n",
      "0.0012099936441292431 THY\n",
      "0.0032071732905974166 TKP\n",
      "0.01857306477154217 TURCK\n",
      "0.0023841588753156914 UEC\n",
      "0.000509769496025102 VAT\n",
      "0.00047686318131941435 VB\n",
      "0.0008005472804845996 VIT\n",
      "0.0015635312606299978 VMI\n",
      "0.016242057075260764 VOS\n",
      "0.0006086834414775184 VRAIL\n",
      "0.0012190603901007621 VSMN\n",
      "0.007758567439859654 VT\n",
      "0.005115101587118783 WALD\n",
      "0.0005636050998810227 WASHTEC\n",
      "0.0007900206546106444 WERMA\n",
      "0.01879110768627687 WILO\n",
      "0.0032864147094256234 WTT\n",
      "0.000518156289599676 WWERK\n",
      "0.0005639936907581019 XPLM\n",
      "0.002212258824665541 ZEISS\n",
      "0.0008530492870774027 ZEP\n",
      "0.0003692228119566784 ZF\n",
      "0.05024956103792426 ZSA\n",
      "0.006740853819001501 ZZZM\n"
     ]
    }
   ],
   "source": [
    "for i in range(len(prob[0])):\n",
    "    print(prob[0][i],classes[i])"
   ]
  },
  {
   "cell_type": "code",
   "execution_count": 192,
   "metadata": {},
   "outputs": [],
   "source": [
    "test_email1 = \"\"\"\n",
    "From: Voillat, Lionel [mailto:lionel.voillat@siemens.com] \n",
    "Sent: Monday, November 20, 2017 7:54 PM\n",
    "To: support-ecad <support-ecad@xplm.com>\n",
    "Cc: Hutsch, Marc <Marc.Hutsch@xplm.com>\n",
    "Subject: TC_1.0_Altium - error on start\n",
    "\n",
    "Hello,\n",
    "\n",
    "I work at Siemens Industry Software as Presales (Mechatronics) for Switzerland / Austria and have a problem with your TC_1.0_Altium interface (see attachment). I installed and configured the interface (according to readme.txt) but it doesn't work. I see the \"Integrate\" window, then nothing more happens.\n",
    "\n",
    "Seems to be the following problems:\n",
    "*********\n",
    "2017-11-20 14:27:10 DEBUG Caught StandardError: IVS is not available or incompatible:\n",
    "Error: OpenTimeout\n",
    "Message: \"execution expired\"\n",
    "*********\n",
    "\n",
    "I would be happy if you could call me back to solve my problem or email me a possible solution.\n",
    "\n",
    "Yours sincerely.\n",
    "\n",
    "Lionel Voillat\n",
    "Presales PLM / CAD-Central / Eastern Europe\n",
    "Global Sales & Services\n",
    "\n",
    "Siemens Industry Software AG\n",
    "Digital Factory Division\n",
    "Product lifecycle management\n",
    "Central & Eastern Europe\n",
    "DF PL S&SE EU COE BD PSA\n",
    "Freilagerstrasse 40\n",
    "8047 Zurich, Switzerland\n",
    "Tel.: +41 (0) 44 755 72 93\n",
    "Fax: +41 (0) 44 755 72 70\n",
    "Mobile: +41 (0) 79 346 68 28\n",
    "lionel.voillat@siemens.com\n",
    "www.siemens.com/plm \n",
    "More about this source textSource text required for additional translation information\n",
    "Send feedback\n",
    "Side panels\n",
    "\"\"\""
   ]
  },
  {
   "cell_type": "code",
   "execution_count": 193,
   "metadata": {},
   "outputs": [],
   "source": [
    "test_email1_pr = preprocess_text(test_email1, flg_stemm=True, flg_lemm=False, \n",
    "          lst_stopwords=lst_stopwords)"
   ]
  },
  {
   "cell_type": "code",
   "execution_count": 206,
   "metadata": {},
   "outputs": [
    {
     "data": {
      "text/plain": [
       "array(['SVC'], dtype=object)"
      ]
     },
     "execution_count": 206,
     "metadata": {},
     "output_type": "execute_result"
    }
   ],
   "source": [
    "model_svm.predict([test_email1_pr])"
   ]
  },
  {
   "cell_type": "code",
   "execution_count": 199,
   "metadata": {},
   "outputs": [
    {
     "data": {
      "text/plain": [
       "array(['SIE'], dtype='<U13')"
      ]
     },
     "execution_count": 199,
     "metadata": {},
     "output_type": "execute_result"
    }
   ],
   "source": [
    "model.predict([test_email1_pr])"
   ]
  },
  {
   "cell_type": "code",
   "execution_count": 203,
   "metadata": {},
   "outputs": [],
   "source": [
    "prob1 = model_svm.predict_proba([test_email1_pr])"
   ]
  },
  {
   "cell_type": "code",
   "execution_count": 204,
   "metadata": {},
   "outputs": [],
   "source": [
    "classes = model_svm.classes_"
   ]
  },
  {
   "cell_type": "code",
   "execution_count": 205,
   "metadata": {},
   "outputs": [
    {
     "data": {
      "text/plain": [
       "[('ACH', 0.0007539705353529607),\n",
       " ('ACTIA', 0.0017698947679764465),\n",
       " ('ADMINUI', 0.00025235011265010483),\n",
       " ('ADS', 0.06015861571061604),\n",
       " ('ADV', 0.00036021273122330136),\n",
       " ('AGILE', 0.00015271859412346205),\n",
       " ('ALP', 0.0015276389948705046),\n",
       " ('AQUA', 0.0005747688014685657),\n",
       " ('AR', 0.0015956930350809007),\n",
       " ('ARAS', 0.0065456100935492),\n",
       " ('ASM', 0.011107898515143941),\n",
       " ('ASS', 0.00029905913891145706),\n",
       " ('ASYS', 0.0017598095114674983),\n",
       " ('BAH', 0.0015110567364629492),\n",
       " ('BDT', 0.000346764791068026),\n",
       " ('BEC', 0.00020977200784951384),\n",
       " ('BESI', 0.0008025546552235132),\n",
       " ('BKH', 0.0002520635465125888),\n",
       " ('BMN', 0.001419630054049455),\n",
       " ('BROOKS', 0.0014037570406107772),\n",
       " ('BRUC', 0.0001848198511668676),\n",
       " ('BU', 0.0034529608218419414),\n",
       " ('BULT', 0.0017445167546571048),\n",
       " ('CAR', 0.005119016954321599),\n",
       " ('CDS', 0.003571863064080705),\n",
       " ('CHDLTOSNX', 0.00035246016260321027),\n",
       " ('CNTRO', 0.0005810017675498952),\n",
       " ('COM', 0.0004756004289650517),\n",
       " ('CONTACT', 0.0010756748898355507),\n",
       " ('CRE', 0.0008768540342267601),\n",
       " ('CSCH', 0.0001615739534600346),\n",
       " ('CSTOSNX', 0.00018460568419569843),\n",
       " ('CUBIC', 0.0009654971343750382),\n",
       " ('DEMATIC', 0.00040257652870967465),\n",
       " ('DEVOPS', 0.00023449466417548742),\n",
       " ('DFF', 0.0031741109833177115),\n",
       " ('DIONEX', 0.0021788805615903183),\n",
       " ('DITTEL', 0.0006419839397925133),\n",
       " ('DM', 0.057516289529221984),\n",
       " ('DMS', 0.0012739848486208742),\n",
       " ('DOM', 0.0011343439769980924),\n",
       " ('DRA', 0.0008986773030713274),\n",
       " ('DRAPER', 0.001044463673408039),\n",
       " ('DS', 0.0032256907168268477),\n",
       " ('DXTOSNX', 0.0006111053362336299),\n",
       " ('ECTR', 0.01461572233210623),\n",
       " ('EGO', 0.00014216902603409156),\n",
       " ('ELB', 0.00015094242309619967),\n",
       " ('ELE', 0.0007464254042358573),\n",
       " ('EMR', 0.0007065892851361804),\n",
       " ('EPDM', 0.004197895138343967),\n",
       " ('ERBE', 0.0005055634598074184),\n",
       " ('ERCO', 0.0010205885855734797),\n",
       " ('EST', 0.0010561190347647307),\n",
       " ('EWZ', 0.0013720742209822722),\n",
       " ('FAMECC', 0.008523853044352785),\n",
       " ('FESTO', 0.0002793108555050141),\n",
       " ('FILL', 0.0015481983634588908),\n",
       " ('FINCAD', 0.0002696220064079223),\n",
       " ('FRE', 0.0003753654362467053),\n",
       " ('FRECH', 0.0004615032541943321),\n",
       " ('GLUTH', 0.000387461763864451),\n",
       " ('GRUNDFOS', 0.002872983043129541),\n",
       " ('GRVE', 0.00018289017650349574),\n",
       " ('HAR', 0.0005618745215198687),\n",
       " ('HDH', 0.004538323907875469),\n",
       " ('HER', 0.0017240881828197148),\n",
       " ('HOL', 0.0006281601841285813),\n",
       " ('HOLCIM', 0.000298880988761529),\n",
       " ('HP', 0.0015442616466927665),\n",
       " ('HUI', 0.0029226571201776386),\n",
       " ('HWEBER', 0.0008888134390870387),\n",
       " ('HYDR', 0.0005543585747767274),\n",
       " ('IHC', 0.0010995784746913623),\n",
       " ('IKA', 0.0005155676342394371),\n",
       " ('IMA', 0.002042383112676987),\n",
       " ('INF', 0.0008701822598111359),\n",
       " ('INSP', 0.0002916163024151756),\n",
       " ('IPI', 0.0020651160891709728),\n",
       " ('ISG', 0.0017776563396802339),\n",
       " ('ISP', 0.0005151390939941809),\n",
       " ('ITEL', 0.0006571470719846567),\n",
       " ('JUNKER', 0.0016092314585479943),\n",
       " ('KAL', 0.00035837835813810876),\n",
       " ('KGS', 0.00031930064848681916),\n",
       " ('KOIKE', 0.0006436745590525381),\n",
       " ('KOL', 0.00037376322950000975),\n",
       " ('KUKA', 0.0008457043812308114),\n",
       " ('LAB', 0.002171386467367142),\n",
       " ('LAEMPE', 0.0005985558051061917),\n",
       " ('LANDISGYR', 0.0014039899621162808),\n",
       " ('LEAR', 0.00022621633025375062),\n",
       " ('LEGO', 0.002301209187180203),\n",
       " ('LEO', 0.0004827683526329099),\n",
       " ('LMD', 0.0014676246219579975),\n",
       " ('LMO', 0.0005002256675841636),\n",
       " ('MAG', 0.001253727544560142),\n",
       " ('MANZ', 0.00047044518226087165),\n",
       " ('MAREL', 0.0007293695560540874),\n",
       " ('MATRIX', 0.019999825224870385),\n",
       " ('MB', 0.000153775673732121),\n",
       " ('MENTOREXTR', 0.0003983439825111317),\n",
       " ('METRO', 0.00018113411483471032),\n",
       " ('METSO', 0.010361999616983524),\n",
       " ('MG', 0.00022099788124543113),\n",
       " ('MID', 0.002545023180627726),\n",
       " ('MITLL', 0.0010737385049628789),\n",
       " ('MKB', 0.0006816699057228432),\n",
       " ('MOOG', 0.0006515234546293187),\n",
       " ('OER', 0.010584945933938742),\n",
       " ('OMM', 0.0005244000115460105),\n",
       " ('ONTEC', 0.00023876198102395612),\n",
       " ('OOTB', 0.007068570777365962),\n",
       " ('ORTOSNX', 0.0002550818601346628),\n",
       " ('OTTOBOCK', 0.0002756689994450269),\n",
       " ('PADSTOSNX', 0.00031489419036476407),\n",
       " ('PDX', 0.000640697356772288),\n",
       " ('PGS', 0.001536528968786505),\n",
       " ('PHI', 0.00029648752465815173),\n",
       " ('PI', 0.016338805355356444),\n",
       " ('PROCAD', 0.0018950767841011942),\n",
       " ('PROR', 0.001594358846865214),\n",
       " ('PROTELTOSNX', 0.0007876647400446706),\n",
       " ('PSB', 0.00026904343977374553),\n",
       " ('PTC', 0.05122681179422821),\n",
       " ('PULSONIXTOSNX', 0.0002386655408358308),\n",
       " ('REGA', 0.0004656650894328954),\n",
       " ('REI', 0.0008706932882519329),\n",
       " ('RHE', 0.0012590353211697249),\n",
       " ('RUH', 0.0005846627975059827),\n",
       " ('SAT', 0.0025907243284569296),\n",
       " ('SAU', 0.0014735512988733033),\n",
       " ('SDR', 0.0038481146785798066),\n",
       " ('SDTOSNX', 0.00028453083840376727),\n",
       " ('SEW', 0.0028363601969246294),\n",
       " ('SIE', 0.25717103775550587),\n",
       " ('SIM', 0.0006358631198667196),\n",
       " ('SLOAN', 0.0009459732927064981),\n",
       " ('SMIT', 0.019996086790107812),\n",
       " ('SMP', 0.022657145706625473),\n",
       " ('SOR', 0.003355157523021865),\n",
       " ('SPRP', 0.0010947337050355493),\n",
       " ('STORENGY', 0.00023670762532481887),\n",
       " ('STRAMA', 0.022259941026427664),\n",
       " ('STRATEC', 0.0027850669641463453),\n",
       " ('SUP', 0.0002801812408229554),\n",
       " ('SVC', 0.14510077662017754),\n",
       " ('SW', 0.0017608166351217906),\n",
       " ('SWA', 0.003103315672382314),\n",
       " ('TBN', 0.028190418590773467),\n",
       " ('TEST', 0.0001634769648779275),\n",
       " ('TESTIT', 0.0030472114611484087),\n",
       " ('THO', 0.00025266660764540776),\n",
       " ('THY', 0.0011599117371521171),\n",
       " ('TKP', 0.0005571698282662725),\n",
       " ('TURCK', 0.010064242526302048),\n",
       " ('UEC', 0.0005884355830078833),\n",
       " ('VAT', 0.0003578548495246916),\n",
       " ('VB', 0.0005203051993552153),\n",
       " ('VIT', 0.0006722541083585407),\n",
       " ('VMI', 0.004241078813841055),\n",
       " ('VOS', 0.0025640831895762267),\n",
       " ('VRAIL', 0.0004622553772065429),\n",
       " ('VSMN', 0.0010615126663117264),\n",
       " ('VT', 0.0005964359226843912),\n",
       " ('WALD', 0.0017346169102415818),\n",
       " ('WASHTEC', 0.00040872407718403066),\n",
       " ('WERMA', 0.0003339065500938711),\n",
       " ('WILO', 0.002292479388468224),\n",
       " ('WTT', 0.0028380986875679816),\n",
       " ('WWERK', 0.0003532155173557314),\n",
       " ('XPLM', 0.00048466311126964094),\n",
       " ('ZEISS', 0.0013276227102303544),\n",
       " ('ZEP', 0.0004432822136466581),\n",
       " ('ZF', 0.00027503565734937255),\n",
       " ('ZSA', 0.03340714182537062),\n",
       " ('ZZZM', 0.013097722717225454)]"
      ]
     },
     "execution_count": 205,
     "metadata": {},
     "output_type": "execute_result"
    }
   ],
   "source": [
    "list(zip(classes,prob1[0]))"
   ]
  },
  {
   "cell_type": "code",
   "execution_count": 171,
   "metadata": {},
   "outputs": [],
   "source": [
    "# сохранение обученной модели"
   ]
  },
  {
   "cell_type": "code",
   "execution_count": 159,
   "metadata": {},
   "outputs": [],
   "source": [
    "import pickle"
   ]
  },
  {
   "cell_type": "code",
   "execution_count": 160,
   "metadata": {},
   "outputs": [],
   "source": [
    "Pkl_Filename = \"company_name_model_svm.pkl\"  "
   ]
  },
  {
   "cell_type": "code",
   "execution_count": 161,
   "metadata": {},
   "outputs": [],
   "source": [
    "with open(Pkl_Filename, 'wb') as file:  \n",
    "    pickle.dump(model_svm, file)"
   ]
  },
  {
   "cell_type": "code",
   "execution_count": 163,
   "metadata": {},
   "outputs": [],
   "source": [
    "# загрузка обученной модели\n",
    "with open(Pkl_Filename, 'rb') as file:  \n",
    "    Pickled_LR_Model = pickle.load(file)\n",
    "\n",
    "prob2 = Pickled_LR_Model.predict_proba([test_email1_pr])"
   ]
  },
  {
   "cell_type": "code",
   "execution_count": 164,
   "metadata": {},
   "outputs": [
    {
     "name": "stdout",
     "output_type": "stream",
     "text": [
      "0.0007539705353529607 ACH\n",
      "0.0017698947679764465 ACTIA\n",
      "0.00025235011265010483 ADMINUI\n",
      "0.06015861571061604 ADS\n",
      "0.00036021273122330136 ADV\n",
      "0.00015271859412346205 AGILE\n",
      "0.0015276389948705046 ALP\n",
      "0.0005747688014685657 AQUA\n",
      "0.0015956930350809007 AR\n",
      "0.0065456100935492 ARAS\n",
      "0.011107898515143941 ASM\n",
      "0.00029905913891145706 ASS\n",
      "0.0017598095114674983 ASYS\n",
      "0.0015110567364629492 BAH\n",
      "0.000346764791068026 BDT\n",
      "0.00020977200784951384 BEC\n",
      "0.0008025546552235132 BESI\n",
      "0.0002520635465125888 BKH\n",
      "0.001419630054049455 BMN\n",
      "0.0014037570406107772 BROOKS\n",
      "0.0001848198511668676 BRUC\n",
      "0.0034529608218419414 BU\n",
      "0.0017445167546571048 BULT\n",
      "0.005119016954321599 CAR\n",
      "0.003571863064080705 CDS\n",
      "0.00035246016260321027 CHDLTOSNX\n",
      "0.0005810017675498952 CNTRO\n",
      "0.0004756004289650517 COM\n",
      "0.0010756748898355507 CONTACT\n",
      "0.0008768540342267601 CRE\n",
      "0.0001615739534600346 CSCH\n",
      "0.00018460568419569843 CSTOSNX\n",
      "0.0009654971343750382 CUBIC\n",
      "0.00040257652870967465 DEMATIC\n",
      "0.00023449466417548742 DEVOPS\n",
      "0.0031741109833177115 DFF\n",
      "0.0021788805615903183 DIONEX\n",
      "0.0006419839397925133 DITTEL\n",
      "0.057516289529221984 DM\n",
      "0.0012739848486208742 DMS\n",
      "0.0011343439769980924 DOM\n",
      "0.0008986773030713274 DRA\n",
      "0.001044463673408039 DRAPER\n",
      "0.0032256907168268477 DS\n",
      "0.0006111053362336299 DXTOSNX\n",
      "0.01461572233210623 ECTR\n",
      "0.00014216902603409156 EGO\n",
      "0.00015094242309619967 ELB\n",
      "0.0007464254042358573 ELE\n",
      "0.0007065892851361804 EMR\n",
      "0.004197895138343967 EPDM\n",
      "0.0005055634598074184 ERBE\n",
      "0.0010205885855734797 ERCO\n",
      "0.0010561190347647307 EST\n",
      "0.0013720742209822722 EWZ\n",
      "0.008523853044352785 FAMECC\n",
      "0.0002793108555050141 FESTO\n",
      "0.0015481983634588908 FILL\n",
      "0.0002696220064079223 FINCAD\n",
      "0.0003753654362467053 FRE\n",
      "0.0004615032541943321 FRECH\n",
      "0.000387461763864451 GLUTH\n",
      "0.002872983043129541 GRUNDFOS\n",
      "0.00018289017650349574 GRVE\n",
      "0.0005618745215198687 HAR\n",
      "0.004538323907875469 HDH\n",
      "0.0017240881828197148 HER\n",
      "0.0006281601841285813 HOL\n",
      "0.000298880988761529 HOLCIM\n",
      "0.0015442616466927665 HP\n",
      "0.0029226571201776386 HUI\n",
      "0.0008888134390870387 HWEBER\n",
      "0.0005543585747767274 HYDR\n",
      "0.0010995784746913623 IHC\n",
      "0.0005155676342394371 IKA\n",
      "0.002042383112676987 IMA\n",
      "0.0008701822598111359 INF\n",
      "0.0002916163024151756 INSP\n",
      "0.0020651160891709728 IPI\n",
      "0.0017776563396802339 ISG\n",
      "0.0005151390939941809 ISP\n",
      "0.0006571470719846567 ITEL\n",
      "0.0016092314585479943 JUNKER\n",
      "0.00035837835813810876 KAL\n",
      "0.00031930064848681916 KGS\n",
      "0.0006436745590525381 KOIKE\n",
      "0.00037376322950000975 KOL\n",
      "0.0008457043812308114 KUKA\n",
      "0.002171386467367142 LAB\n",
      "0.0005985558051061917 LAEMPE\n",
      "0.0014039899621162808 LANDISGYR\n",
      "0.00022621633025375062 LEAR\n",
      "0.002301209187180203 LEGO\n",
      "0.0004827683526329099 LEO\n",
      "0.0014676246219579975 LMD\n",
      "0.0005002256675841636 LMO\n",
      "0.001253727544560142 MAG\n",
      "0.00047044518226087165 MANZ\n",
      "0.0007293695560540874 MAREL\n",
      "0.019999825224870385 MATRIX\n",
      "0.000153775673732121 MB\n",
      "0.0003983439825111317 MENTOREXTR\n",
      "0.00018113411483471032 METRO\n",
      "0.010361999616983524 METSO\n",
      "0.00022099788124543113 MG\n",
      "0.002545023180627726 MID\n",
      "0.0010737385049628789 MITLL\n",
      "0.0006816699057228432 MKB\n",
      "0.0006515234546293187 MOOG\n",
      "0.010584945933938742 OER\n",
      "0.0005244000115460105 OMM\n",
      "0.00023876198102395612 ONTEC\n",
      "0.007068570777365962 OOTB\n",
      "0.0002550818601346628 ORTOSNX\n",
      "0.0002756689994450269 OTTOBOCK\n",
      "0.00031489419036476407 PADSTOSNX\n",
      "0.000640697356772288 PDX\n",
      "0.001536528968786505 PGS\n",
      "0.00029648752465815173 PHI\n",
      "0.016338805355356444 PI\n",
      "0.0018950767841011942 PROCAD\n",
      "0.001594358846865214 PROR\n",
      "0.0007876647400446706 PROTELTOSNX\n",
      "0.00026904343977374553 PSB\n",
      "0.05122681179422821 PTC\n",
      "0.0002386655408358308 PULSONIXTOSNX\n",
      "0.0004656650894328954 REGA\n",
      "0.0008706932882519329 REI\n",
      "0.0012590353211697249 RHE\n",
      "0.0005846627975059827 RUH\n",
      "0.0025907243284569296 SAT\n",
      "0.0014735512988733033 SAU\n",
      "0.0038481146785798066 SDR\n",
      "0.00028453083840376727 SDTOSNX\n",
      "0.0028363601969246294 SEW\n",
      "0.25717103775550587 SIE\n",
      "0.0006358631198667196 SIM\n",
      "0.0009459732927064981 SLOAN\n",
      "0.019996086790107812 SMIT\n",
      "0.022657145706625473 SMP\n",
      "0.003355157523021865 SOR\n",
      "0.0010947337050355493 SPRP\n",
      "0.00023670762532481887 STORENGY\n",
      "0.022259941026427664 STRAMA\n",
      "0.0027850669641463453 STRATEC\n",
      "0.0002801812408229554 SUP\n",
      "0.14510077662017754 SVC\n",
      "0.0017608166351217906 SW\n",
      "0.003103315672382314 SWA\n",
      "0.028190418590773467 TBN\n",
      "0.0001634769648779275 TEST\n",
      "0.0030472114611484087 TESTIT\n",
      "0.00025266660764540776 THO\n",
      "0.0011599117371521171 THY\n",
      "0.0005571698282662725 TKP\n",
      "0.010064242526302048 TURCK\n",
      "0.0005884355830078833 UEC\n",
      "0.0003578548495246916 VAT\n",
      "0.0005203051993552153 VB\n",
      "0.0006722541083585407 VIT\n",
      "0.004241078813841055 VMI\n",
      "0.0025640831895762267 VOS\n",
      "0.0004622553772065429 VRAIL\n",
      "0.0010615126663117264 VSMN\n",
      "0.0005964359226843912 VT\n",
      "0.0017346169102415818 WALD\n",
      "0.00040872407718403066 WASHTEC\n",
      "0.0003339065500938711 WERMA\n",
      "0.002292479388468224 WILO\n",
      "0.0028380986875679816 WTT\n",
      "0.0003532155173557314 WWERK\n",
      "0.00048466311126964094 XPLM\n",
      "0.0013276227102303544 ZEISS\n",
      "0.0004432822136466581 ZEP\n",
      "0.00027503565734937255 ZF\n",
      "0.03340714182537062 ZSA\n",
      "0.013097722717225454 ZZZM\n"
     ]
    }
   ],
   "source": [
    "for i in range(len(prob2[0])):\n",
    "    print(prob2[0][i],classes[i])"
   ]
  },
  {
   "cell_type": "code",
   "execution_count": 166,
   "metadata": {},
   "outputs": [
    {
     "data": {
      "text/plain": [
       "array(['SVC'], dtype=object)"
      ]
     },
     "execution_count": 166,
     "metadata": {},
     "output_type": "execute_result"
    }
   ],
   "source": [
    "Pickled_LR_Model.predict([test_email1_pr])"
   ]
  },
  {
   "cell_type": "code",
   "execution_count": 145,
   "metadata": {},
   "outputs": [
    {
     "data": {
      "text/plain": [
       "<6596x6135 sparse matrix of type '<class 'numpy.float64'>'\n",
       "\twith 139444 stored elements in Compressed Sparse Row format>"
      ]
     },
     "execution_count": 145,
     "metadata": {},
     "output_type": "execute_result"
    }
   ],
   "source": [
    "X_train"
   ]
  },
  {
   "cell_type": "code",
   "execution_count": 147,
   "metadata": {},
   "outputs": [
    {
     "data": {
      "text/plain": [
       "(6596,)"
      ]
     },
     "execution_count": 147,
     "metadata": {},
     "output_type": "execute_result"
    }
   ],
   "source": [
    "y_train.shape"
   ]
  },
  {
   "cell_type": "code",
   "execution_count": 652,
   "metadata": {},
   "outputs": [
    {
     "data": {
      "text/plain": [
       "'3.4.5'"
      ]
     },
     "execution_count": 652,
     "metadata": {},
     "output_type": "execute_result"
    }
   ],
   "source": [
    "nltk.__version__"
   ]
  },
  {
   "cell_type": "code",
   "execution_count": 654,
   "metadata": {},
   "outputs": [],
   "source": [
    "import sklearn"
   ]
  },
  {
   "cell_type": "code",
   "execution_count": 655,
   "metadata": {},
   "outputs": [
    {
     "data": {
      "text/plain": [
       "'0.22.1'"
      ]
     },
     "execution_count": 655,
     "metadata": {},
     "output_type": "execute_result"
    }
   ],
   "source": [
    "sklearn.__version__"
   ]
  },
  {
   "cell_type": "code",
   "execution_count": 717,
   "metadata": {},
   "outputs": [],
   "source": [
    "from sklearn.model_selection import StratifiedKFold,cross_validate"
   ]
  },
  {
   "cell_type": "code",
   "execution_count": 724,
   "metadata": {},
   "outputs": [
    {
     "name": "stderr",
     "output_type": "stream",
     "text": [
      "C:\\Users\\Elena\\anaconda3\\lib\\site-packages\\sklearn\\model_selection\\_split.py:667: UserWarning: The least populated class in y has only 2 members, which is less than n_splits=5.\n",
      "  % (min_groups, self.n_splits)), UserWarning)\n"
     ]
    },
    {
     "name": "stdout",
     "output_type": "stream",
     "text": [
      "Accuracy: 0.8178114086146682\n",
      "Accuracy: 0.8084982537834692\n",
      "Accuracy: 0.810826542491269\n",
      "Accuracy: 0.8020954598370198\n",
      "Accuracy: 0.7968568102444703\n"
     ]
    }
   ],
   "source": [
    "# stratified k fold\n",
    "kfold = StratifiedKFold(n_splits=5, shuffle=True, random_state=1)\n",
    "# enumerate the splits and summarize the distributions\n",
    "for train_ix, test_ix in kfold.split(X, Y):\n",
    "    # select rows\n",
    "    X_train, X_test = X[train_ix], X[test_ix]\n",
    "    Y_train, Y_test = Y[train_ix], Y[test_ix]\n",
    "    # summarize train and test composition\n",
    "    model_svm.fit(X_train,Y_train)\n",
    "    predictions = model_svm.predict(X_test)\n",
    "    print('Accuracy:',accuracy_score(Y_test,predictions))"
   ]
  },
  {
   "cell_type": "code",
   "execution_count": 719,
   "metadata": {},
   "outputs": [],
   "source": [
    "X = data_jira_en[\"text_clean\"].values"
   ]
  },
  {
   "cell_type": "code",
   "execution_count": 720,
   "metadata": {},
   "outputs": [],
   "source": [
    "Y = data_jira_en[\"company\"].values"
   ]
  },
  {
   "cell_type": "code",
   "execution_count": 725,
   "metadata": {},
   "outputs": [],
   "source": [
    "# cosine simularity"
   ]
  },
  {
   "cell_type": "code",
   "execution_count": 732,
   "metadata": {},
   "outputs": [],
   "source": [
    "from sklearn.metrics.pairwise import cosine_similarity\n"
   ]
  },
  {
   "cell_type": "code",
   "execution_count": 733,
   "metadata": {},
   "outputs": [
    {
     "data": {
      "text/plain": [
       "<5755x5164 sparse matrix of type '<class 'numpy.float64'>'\n",
       "\twith 77405 stored elements in Compressed Sparse Row format>"
      ]
     },
     "execution_count": 733,
     "metadata": {},
     "output_type": "execute_result"
    }
   ],
   "source": [
    "X_train"
   ]
  },
  {
   "cell_type": "code",
   "execution_count": 788,
   "metadata": {},
   "outputs": [],
   "source": [
    "test_email2 = data_jira_en[\"text\"].values[3]"
   ]
  },
  {
   "cell_type": "code",
   "execution_count": 789,
   "metadata": {},
   "outputs": [],
   "source": [
    "test_email2_pr = preprocess_text(test_email2, flg_stemm=True, flg_lemm=False, \n",
    "          lst_stopwords=lst_stopwords)"
   ]
  },
  {
   "cell_type": "code",
   "execution_count": 791,
   "metadata": {},
   "outputs": [],
   "source": [
    "email_vector2 = vectorizer.fit_transform([test_email2_pr])"
   ]
  },
  {
   "cell_type": "code",
   "execution_count": 792,
   "metadata": {},
   "outputs": [],
   "source": [
    "cosine_sim = cosine_similarity(email_vector2,X_train).flatten()"
   ]
  },
  {
   "cell_type": "code",
   "execution_count": 794,
   "metadata": {},
   "outputs": [
    {
     "data": {
      "text/plain": [
       "array([0.        , 0.        , 0.02679404, ..., 0.        , 0.01795977,\n",
       "       0.        ])"
      ]
     },
     "execution_count": 794,
     "metadata": {},
     "output_type": "execute_result"
    }
   ],
   "source": [
    "cosine_sim"
   ]
  },
  {
   "cell_type": "code",
   "execution_count": 795,
   "metadata": {},
   "outputs": [
    {
     "data": {
      "text/plain": [
       "array([3723, 1688,  987, 5045], dtype=int64)"
      ]
     },
     "execution_count": 795,
     "metadata": {},
     "output_type": "execute_result"
    }
   ],
   "source": [
    "# 5 наиболее похожих текстов\n",
    "docs_indexes = cosine_sim.argsort()[:-5:-1]\n",
    "docs_indexes"
   ]
  },
  {
   "cell_type": "code",
   "execution_count": 797,
   "metadata": {},
   "outputs": [
    {
     "data": {
      "text/plain": [
       "array([0.96702668, 0.74645723, 0.74645723, 0.74645723])"
      ]
     },
     "execution_count": 797,
     "metadata": {},
     "output_type": "execute_result"
    }
   ],
   "source": [
    "cosine_sim[docs_indexes]"
   ]
  },
  {
   "cell_type": "code",
   "execution_count": 802,
   "metadata": {},
   "outputs": [],
   "source": [
    "best_mail = dtf_train[\"text\"].values[docs_indexes[0]]"
   ]
  },
  {
   "cell_type": "code",
   "execution_count": 806,
   "metadata": {},
   "outputs": [
    {
     "data": {
      "text/plain": [
       "'{html} **From:** E.Amez@achenbach.de  \\r\\n **Sent:** 29-May-17 12:20:07 PM  \\r\\n **To:** support-ecad  \\r\\n **Subject:** [ACH] EPLAN: problem report  \\r\\n  \\r\\n\\r\\nPlease find problem related files in zip archive attached.\\r\\n\\r\\n{html}\\r\\n\\r\\n'"
      ]
     },
     "execution_count": 806,
     "metadata": {},
     "output_type": "execute_result"
    }
   ],
   "source": [
    "best_mail"
   ]
  },
  {
   "cell_type": "code",
   "execution_count": 805,
   "metadata": {},
   "outputs": [
    {
     "data": {
      "text/plain": [
       "'{html} **From:** E.Amez@achenbach.de  \\r\\n **Sent:** 29-May-17 11:38:42 AM  \\r\\n **To:** support-ecad  \\r\\n **Subject:** [ACH] EPLAN: problem report  \\r\\n  \\r\\n\\r\\nPlease find problem related files in zip archive attached.\\r\\n\\r\\n{html}\\r\\n\\r\\n'"
      ]
     },
     "execution_count": 805,
     "metadata": {},
     "output_type": "execute_result"
    }
   ],
   "source": [
    "test_email2"
   ]
  },
  {
   "cell_type": "code",
   "execution_count": 210,
   "metadata": {},
   "outputs": [],
   "source": [
    "from collections import Counter"
   ]
  },
  {
   "cell_type": "code",
   "execution_count": 211,
   "metadata": {},
   "outputs": [
    {
     "data": {
      "text/plain": [
       "Counter({'FRECH': 349,\n",
       "         'TBN': 349,\n",
       "         'DXTOSNX': 349,\n",
       "         'HUI': 349,\n",
       "         'SVC': 349,\n",
       "         'ZEISS': 349,\n",
       "         'INF': 349,\n",
       "         'SIE': 349,\n",
       "         'PTC': 349,\n",
       "         'OOTB': 349,\n",
       "         'SMIT': 349,\n",
       "         'DS': 349,\n",
       "         'MITLL': 349,\n",
       "         'VIT': 349,\n",
       "         'DM': 349,\n",
       "         'ECTR': 349,\n",
       "         'CONTACT': 349,\n",
       "         'TKP': 349,\n",
       "         'SAU': 349,\n",
       "         'STRAMA': 349,\n",
       "         'CAR': 349,\n",
       "         'BMN': 349,\n",
       "         'ZSA': 349,\n",
       "         'EWZ': 349,\n",
       "         'ERCO': 349,\n",
       "         'BRUC': 349,\n",
       "         'EPDM': 349,\n",
       "         'BAH': 349,\n",
       "         'LMO': 349,\n",
       "         'DFF': 349,\n",
       "         'GRUNDFOS': 349,\n",
       "         'FILL': 349,\n",
       "         'ZEP': 349,\n",
       "         'ASM': 349,\n",
       "         'PROR': 349,\n",
       "         'AQUA': 349,\n",
       "         'SDR': 349,\n",
       "         'BU': 349,\n",
       "         'THY': 349,\n",
       "         'VOS': 349,\n",
       "         'TURCK': 349,\n",
       "         'BULT': 349,\n",
       "         'SDTOSNX': 349,\n",
       "         'ZZZM': 349,\n",
       "         'ARAS': 349,\n",
       "         'LMD': 349,\n",
       "         'RUH': 349,\n",
       "         'TESTIT': 349,\n",
       "         'DEVOPS': 349,\n",
       "         'VB': 349,\n",
       "         'FINCAD': 349,\n",
       "         'KAL': 349,\n",
       "         'CDS': 349,\n",
       "         'HWEBER': 349,\n",
       "         'METSO': 349,\n",
       "         'BDT': 349,\n",
       "         'DIONEX': 349,\n",
       "         'OMM': 349,\n",
       "         'IKA': 349,\n",
       "         'PI': 349,\n",
       "         'HER': 349,\n",
       "         'KUKA': 349,\n",
       "         'HDH': 349,\n",
       "         'PDX': 349,\n",
       "         'IMA': 349,\n",
       "         'SEW': 349,\n",
       "         'CUBIC': 349,\n",
       "         'VMI': 349,\n",
       "         'WILO': 349,\n",
       "         'ISG': 349,\n",
       "         'DRAPER': 349,\n",
       "         'SMP': 349,\n",
       "         'WTT': 349,\n",
       "         'PROCAD': 349,\n",
       "         'ORTOSNX': 349,\n",
       "         'REI': 349,\n",
       "         'UEC': 349,\n",
       "         'ALP': 349,\n",
       "         'RHE': 349,\n",
       "         'ADV': 349,\n",
       "         'KGS': 349,\n",
       "         'ASYS': 349,\n",
       "         'ACTIA': 349,\n",
       "         'VSMN': 349,\n",
       "         'HP': 349,\n",
       "         'IPI': 349,\n",
       "         'JUNKER': 349,\n",
       "         'MID': 349,\n",
       "         'MAREL': 349,\n",
       "         'SAT': 349,\n",
       "         'WALD': 349,\n",
       "         'ITEL': 349,\n",
       "         'MOOG': 349,\n",
       "         'ISP': 349,\n",
       "         'DITTEL': 349,\n",
       "         'CSCH': 349,\n",
       "         'TEST': 349,\n",
       "         'GLUTH': 349,\n",
       "         'MANZ': 349,\n",
       "         'VRAIL': 349,\n",
       "         'LEAR': 349,\n",
       "         'BROOKS': 349,\n",
       "         'INSP': 349,\n",
       "         'FESTO': 349,\n",
       "         'ADS': 349,\n",
       "         'GRVE': 349,\n",
       "         'ACH': 349,\n",
       "         'AR': 349,\n",
       "         'LEO': 349,\n",
       "         'PGS': 349,\n",
       "         'STRATEC': 349,\n",
       "         'MKB': 349,\n",
       "         'DEMATIC': 349,\n",
       "         'SW': 349,\n",
       "         'KOL': 349,\n",
       "         'ONTEC': 349,\n",
       "         'IHC': 349,\n",
       "         'VAT': 349,\n",
       "         'FAMECC': 349,\n",
       "         'OER': 349,\n",
       "         'PADSTOSNX': 349,\n",
       "         'HOL': 349,\n",
       "         'WASHTEC': 349,\n",
       "         'PSB': 349,\n",
       "         'SWA': 349,\n",
       "         'CRE': 349,\n",
       "         'MG': 349,\n",
       "         'SPRP': 349,\n",
       "         'KOIKE': 349,\n",
       "         'CHDLTOSNX': 349,\n",
       "         'ELE': 349,\n",
       "         'ELB': 349,\n",
       "         'DRA': 349,\n",
       "         'EMR': 349,\n",
       "         'BESI': 349,\n",
       "         'BEC': 349,\n",
       "         'HOLCIM': 349,\n",
       "         'WWERK': 349,\n",
       "         'HAR': 349,\n",
       "         'LAEMPE': 349,\n",
       "         'WERMA': 349,\n",
       "         'LANDISGYR': 349,\n",
       "         'MATRIX': 349,\n",
       "         'FRE': 349,\n",
       "         'ASS': 349,\n",
       "         'PULSONIXTOSNX': 349,\n",
       "         'PROTELTOSNX': 349,\n",
       "         'LAB': 349,\n",
       "         'SLOAN': 349,\n",
       "         'STORENGY': 349,\n",
       "         'CNTRO': 349,\n",
       "         'DMS': 349,\n",
       "         'DOM': 349,\n",
       "         'CSTOSNX': 349,\n",
       "         'THO': 349,\n",
       "         'SOR': 349,\n",
       "         'HYDR': 349,\n",
       "         'ADMINUI': 349,\n",
       "         'EST': 349,\n",
       "         'SIM': 349,\n",
       "         'XPLM': 349,\n",
       "         'OTTOBOCK': 349,\n",
       "         'SUP': 349,\n",
       "         'COM': 349,\n",
       "         'REGA': 349,\n",
       "         'AGILE': 349,\n",
       "         'ERBE': 349,\n",
       "         'MENTOREXTR': 349,\n",
       "         'PHI': 349,\n",
       "         'MAG': 349,\n",
       "         'VT': 349,\n",
       "         'BKH': 349,\n",
       "         'MB': 349,\n",
       "         'LEGO': 349,\n",
       "         'EGO': 349,\n",
       "         'ZF': 349,\n",
       "         'METRO': 349})"
      ]
     },
     "execution_count": 211,
     "metadata": {},
     "output_type": "execute_result"
    }
   ],
   "source": [
    "Counter(y_train)"
   ]
  },
  {
   "cell_type": "code",
   "execution_count": 249,
   "metadata": {},
   "outputs": [],
   "source": [
    "corpus = data_jira_en[\"text_clean\"]"
   ]
  },
  {
   "cell_type": "code",
   "execution_count": 250,
   "metadata": {},
   "outputs": [
    {
     "data": {
      "text/plain": [
       "(8580,)"
      ]
     },
     "execution_count": 250,
     "metadata": {},
     "output_type": "execute_result"
    }
   ],
   "source": [
    "corpus.shape"
   ]
  },
  {
   "cell_type": "code",
   "execution_count": 251,
   "metadata": {},
   "outputs": [],
   "source": [
    "X = vectorizer.transform(corpus)"
   ]
  },
  {
   "cell_type": "code",
   "execution_count": 252,
   "metadata": {},
   "outputs": [
    {
     "data": {
      "text/plain": [
       "(8580, 5000)"
      ]
     },
     "execution_count": 252,
     "metadata": {},
     "output_type": "execute_result"
    }
   ],
   "source": [
    "X.shape"
   ]
  },
  {
   "cell_type": "code",
   "execution_count": 253,
   "metadata": {},
   "outputs": [],
   "source": [
    "Y = data_jira_en[\"company\"].values"
   ]
  },
  {
   "cell_type": "code",
   "execution_count": 254,
   "metadata": {},
   "outputs": [
    {
     "data": {
      "text/plain": [
       "(8580,)"
      ]
     },
     "execution_count": 254,
     "metadata": {},
     "output_type": "execute_result"
    }
   ],
   "source": [
    "Y.shape"
   ]
  },
  {
   "cell_type": "code",
   "execution_count": 265,
   "metadata": {},
   "outputs": [],
   "source": [
    "from sklearn.model_selection import StratifiedKFold,cross_val_score,KFold"
   ]
  },
  {
   "cell_type": "code",
   "execution_count": 256,
   "metadata": {},
   "outputs": [],
   "source": [
    "oversampler=SMOTE(k_neighbors=1)"
   ]
  },
  {
   "cell_type": "code",
   "execution_count": 257,
   "metadata": {},
   "outputs": [],
   "source": [
    "X, Y = oversampler.fit_resample(X, Y)"
   ]
  },
  {
   "cell_type": "code",
   "execution_count": 438,
   "metadata": {},
   "outputs": [
    {
     "name": "stdout",
     "output_type": "stream",
     "text": [
      "Accuracy: 0.9566254608544784\n",
      "Accuracy: 0.957926697028844\n",
      "Accuracy: 0.9586292902456216\n",
      "Accuracy: 0.9607981347936887\n",
      "Accuracy: 0.9596594914059535\n"
     ]
    }
   ],
   "source": [
    "# stratified k fold\n",
    "kfold = KFold(n_splits=5, shuffle=True)\n",
    "# enumerate the splits and summarize the distributions\n",
    "for train_ix, test_ix in kfold.split(X, Y):\n",
    "    # select rows\n",
    "    X_train, X_test = X[train_ix], X[test_ix]\n",
    "    Y_train, Y_test = Y[train_ix], Y[test_ix]\n",
    "    # summarize train and test composition\n",
    "    model[\"classifier\"].fit(X_train,Y_train)\n",
    "    predictions = model[\"classifier\"].predict(X_test)\n",
    "    print('Accuracy:',metrics.accuracy_score(Y_test,predictions))"
   ]
  },
  {
   "cell_type": "code",
   "execution_count": 441,
   "metadata": {},
   "outputs": [
    {
     "data": {
      "text/plain": [
       "array([0.9465951 , 0.95738452, 0.96399718, 0.96367185, 0.96567804])"
      ]
     },
     "execution_count": 441,
     "metadata": {},
     "output_type": "execute_result"
    }
   ],
   "source": [
    "cross_val_score(model[\"classifier\"],X,Y,cv=5)"
   ]
  },
  {
   "cell_type": "code",
   "execution_count": 267,
   "metadata": {},
   "outputs": [
    {
     "ename": "KeyboardInterrupt",
     "evalue": "",
     "output_type": "error",
     "traceback": [
      "\u001b[1;31m---------------------------------------------------------------------------\u001b[0m",
      "\u001b[1;31mKeyboardInterrupt\u001b[0m                         Traceback (most recent call last)",
      "\u001b[1;32m<ipython-input-267-6e98b048a3ec>\u001b[0m in \u001b[0;36m<module>\u001b[1;34m\u001b[0m\n\u001b[1;32m----> 1\u001b[1;33m \u001b[0mcross_val_score\u001b[0m\u001b[1;33m(\u001b[0m\u001b[0mmodel_svm\u001b[0m\u001b[1;33m[\u001b[0m\u001b[1;34m\"classifier\"\u001b[0m\u001b[1;33m]\u001b[0m\u001b[1;33m,\u001b[0m\u001b[0mX\u001b[0m\u001b[1;33m,\u001b[0m\u001b[0mY\u001b[0m\u001b[1;33m,\u001b[0m\u001b[0mcv\u001b[0m\u001b[1;33m=\u001b[0m\u001b[1;36m5\u001b[0m\u001b[1;33m)\u001b[0m\u001b[1;33m\u001b[0m\u001b[1;33m\u001b[0m\u001b[0m\n\u001b[0m",
      "\u001b[1;32m~\\anaconda3\\lib\\site-packages\\sklearn\\utils\\validation.py\u001b[0m in \u001b[0;36minner_f\u001b[1;34m(*args, **kwargs)\u001b[0m\n\u001b[0;32m     61\u001b[0m             \u001b[0mextra_args\u001b[0m \u001b[1;33m=\u001b[0m \u001b[0mlen\u001b[0m\u001b[1;33m(\u001b[0m\u001b[0margs\u001b[0m\u001b[1;33m)\u001b[0m \u001b[1;33m-\u001b[0m \u001b[0mlen\u001b[0m\u001b[1;33m(\u001b[0m\u001b[0mall_args\u001b[0m\u001b[1;33m)\u001b[0m\u001b[1;33m\u001b[0m\u001b[1;33m\u001b[0m\u001b[0m\n\u001b[0;32m     62\u001b[0m             \u001b[1;32mif\u001b[0m \u001b[0mextra_args\u001b[0m \u001b[1;33m<=\u001b[0m \u001b[1;36m0\u001b[0m\u001b[1;33m:\u001b[0m\u001b[1;33m\u001b[0m\u001b[1;33m\u001b[0m\u001b[0m\n\u001b[1;32m---> 63\u001b[1;33m                 \u001b[1;32mreturn\u001b[0m \u001b[0mf\u001b[0m\u001b[1;33m(\u001b[0m\u001b[1;33m*\u001b[0m\u001b[0margs\u001b[0m\u001b[1;33m,\u001b[0m \u001b[1;33m**\u001b[0m\u001b[0mkwargs\u001b[0m\u001b[1;33m)\u001b[0m\u001b[1;33m\u001b[0m\u001b[1;33m\u001b[0m\u001b[0m\n\u001b[0m\u001b[0;32m     64\u001b[0m \u001b[1;33m\u001b[0m\u001b[0m\n\u001b[0;32m     65\u001b[0m             \u001b[1;31m# extra_args > 0\u001b[0m\u001b[1;33m\u001b[0m\u001b[1;33m\u001b[0m\u001b[1;33m\u001b[0m\u001b[0m\n",
      "\u001b[1;32m~\\anaconda3\\lib\\site-packages\\sklearn\\model_selection\\_validation.py\u001b[0m in \u001b[0;36mcross_val_score\u001b[1;34m(estimator, X, y, groups, scoring, cv, n_jobs, verbose, fit_params, pre_dispatch, error_score)\u001b[0m\n\u001b[0;32m    448\u001b[0m                                 \u001b[0mfit_params\u001b[0m\u001b[1;33m=\u001b[0m\u001b[0mfit_params\u001b[0m\u001b[1;33m,\u001b[0m\u001b[1;33m\u001b[0m\u001b[1;33m\u001b[0m\u001b[0m\n\u001b[0;32m    449\u001b[0m                                 \u001b[0mpre_dispatch\u001b[0m\u001b[1;33m=\u001b[0m\u001b[0mpre_dispatch\u001b[0m\u001b[1;33m,\u001b[0m\u001b[1;33m\u001b[0m\u001b[1;33m\u001b[0m\u001b[0m\n\u001b[1;32m--> 450\u001b[1;33m                                 error_score=error_score)\n\u001b[0m\u001b[0;32m    451\u001b[0m     \u001b[1;32mreturn\u001b[0m \u001b[0mcv_results\u001b[0m\u001b[1;33m[\u001b[0m\u001b[1;34m'test_score'\u001b[0m\u001b[1;33m]\u001b[0m\u001b[1;33m\u001b[0m\u001b[1;33m\u001b[0m\u001b[0m\n\u001b[0;32m    452\u001b[0m \u001b[1;33m\u001b[0m\u001b[0m\n",
      "\u001b[1;32m~\\anaconda3\\lib\\site-packages\\sklearn\\utils\\validation.py\u001b[0m in \u001b[0;36minner_f\u001b[1;34m(*args, **kwargs)\u001b[0m\n\u001b[0;32m     61\u001b[0m             \u001b[0mextra_args\u001b[0m \u001b[1;33m=\u001b[0m \u001b[0mlen\u001b[0m\u001b[1;33m(\u001b[0m\u001b[0margs\u001b[0m\u001b[1;33m)\u001b[0m \u001b[1;33m-\u001b[0m \u001b[0mlen\u001b[0m\u001b[1;33m(\u001b[0m\u001b[0mall_args\u001b[0m\u001b[1;33m)\u001b[0m\u001b[1;33m\u001b[0m\u001b[1;33m\u001b[0m\u001b[0m\n\u001b[0;32m     62\u001b[0m             \u001b[1;32mif\u001b[0m \u001b[0mextra_args\u001b[0m \u001b[1;33m<=\u001b[0m \u001b[1;36m0\u001b[0m\u001b[1;33m:\u001b[0m\u001b[1;33m\u001b[0m\u001b[1;33m\u001b[0m\u001b[0m\n\u001b[1;32m---> 63\u001b[1;33m                 \u001b[1;32mreturn\u001b[0m \u001b[0mf\u001b[0m\u001b[1;33m(\u001b[0m\u001b[1;33m*\u001b[0m\u001b[0margs\u001b[0m\u001b[1;33m,\u001b[0m \u001b[1;33m**\u001b[0m\u001b[0mkwargs\u001b[0m\u001b[1;33m)\u001b[0m\u001b[1;33m\u001b[0m\u001b[1;33m\u001b[0m\u001b[0m\n\u001b[0m\u001b[0;32m     64\u001b[0m \u001b[1;33m\u001b[0m\u001b[0m\n\u001b[0;32m     65\u001b[0m             \u001b[1;31m# extra_args > 0\u001b[0m\u001b[1;33m\u001b[0m\u001b[1;33m\u001b[0m\u001b[1;33m\u001b[0m\u001b[0m\n",
      "\u001b[1;32m~\\anaconda3\\lib\\site-packages\\sklearn\\model_selection\\_validation.py\u001b[0m in \u001b[0;36mcross_validate\u001b[1;34m(estimator, X, y, groups, scoring, cv, n_jobs, verbose, fit_params, pre_dispatch, return_train_score, return_estimator, error_score)\u001b[0m\n\u001b[0;32m    254\u001b[0m             \u001b[0mreturn_times\u001b[0m\u001b[1;33m=\u001b[0m\u001b[1;32mTrue\u001b[0m\u001b[1;33m,\u001b[0m \u001b[0mreturn_estimator\u001b[0m\u001b[1;33m=\u001b[0m\u001b[0mreturn_estimator\u001b[0m\u001b[1;33m,\u001b[0m\u001b[1;33m\u001b[0m\u001b[1;33m\u001b[0m\u001b[0m\n\u001b[0;32m    255\u001b[0m             error_score=error_score)\n\u001b[1;32m--> 256\u001b[1;33m         for train, test in cv.split(X, y, groups))\n\u001b[0m\u001b[0;32m    257\u001b[0m \u001b[1;33m\u001b[0m\u001b[0m\n\u001b[0;32m    258\u001b[0m     \u001b[1;31m# For callabe scoring, the return type is only know after calling. If the\u001b[0m\u001b[1;33m\u001b[0m\u001b[1;33m\u001b[0m\u001b[1;33m\u001b[0m\u001b[0m\n",
      "\u001b[1;32m~\\anaconda3\\lib\\site-packages\\joblib\\parallel.py\u001b[0m in \u001b[0;36m__call__\u001b[1;34m(self, iterable)\u001b[0m\n\u001b[0;32m   1005\u001b[0m                 \u001b[0mself\u001b[0m\u001b[1;33m.\u001b[0m\u001b[0m_iterating\u001b[0m \u001b[1;33m=\u001b[0m \u001b[0mself\u001b[0m\u001b[1;33m.\u001b[0m\u001b[0m_original_iterator\u001b[0m \u001b[1;32mis\u001b[0m \u001b[1;32mnot\u001b[0m \u001b[1;32mNone\u001b[0m\u001b[1;33m\u001b[0m\u001b[1;33m\u001b[0m\u001b[0m\n\u001b[0;32m   1006\u001b[0m \u001b[1;33m\u001b[0m\u001b[0m\n\u001b[1;32m-> 1007\u001b[1;33m             \u001b[1;32mwhile\u001b[0m \u001b[0mself\u001b[0m\u001b[1;33m.\u001b[0m\u001b[0mdispatch_one_batch\u001b[0m\u001b[1;33m(\u001b[0m\u001b[0miterator\u001b[0m\u001b[1;33m)\u001b[0m\u001b[1;33m:\u001b[0m\u001b[1;33m\u001b[0m\u001b[1;33m\u001b[0m\u001b[0m\n\u001b[0m\u001b[0;32m   1008\u001b[0m                 \u001b[1;32mpass\u001b[0m\u001b[1;33m\u001b[0m\u001b[1;33m\u001b[0m\u001b[0m\n\u001b[0;32m   1009\u001b[0m \u001b[1;33m\u001b[0m\u001b[0m\n",
      "\u001b[1;32m~\\anaconda3\\lib\\site-packages\\joblib\\parallel.py\u001b[0m in \u001b[0;36mdispatch_one_batch\u001b[1;34m(self, iterator)\u001b[0m\n\u001b[0;32m    833\u001b[0m                 \u001b[1;32mreturn\u001b[0m \u001b[1;32mFalse\u001b[0m\u001b[1;33m\u001b[0m\u001b[1;33m\u001b[0m\u001b[0m\n\u001b[0;32m    834\u001b[0m             \u001b[1;32melse\u001b[0m\u001b[1;33m:\u001b[0m\u001b[1;33m\u001b[0m\u001b[1;33m\u001b[0m\u001b[0m\n\u001b[1;32m--> 835\u001b[1;33m                 \u001b[0mself\u001b[0m\u001b[1;33m.\u001b[0m\u001b[0m_dispatch\u001b[0m\u001b[1;33m(\u001b[0m\u001b[0mtasks\u001b[0m\u001b[1;33m)\u001b[0m\u001b[1;33m\u001b[0m\u001b[1;33m\u001b[0m\u001b[0m\n\u001b[0m\u001b[0;32m    836\u001b[0m                 \u001b[1;32mreturn\u001b[0m \u001b[1;32mTrue\u001b[0m\u001b[1;33m\u001b[0m\u001b[1;33m\u001b[0m\u001b[0m\n\u001b[0;32m    837\u001b[0m \u001b[1;33m\u001b[0m\u001b[0m\n",
      "\u001b[1;32m~\\anaconda3\\lib\\site-packages\\joblib\\parallel.py\u001b[0m in \u001b[0;36m_dispatch\u001b[1;34m(self, batch)\u001b[0m\n\u001b[0;32m    752\u001b[0m         \u001b[1;32mwith\u001b[0m \u001b[0mself\u001b[0m\u001b[1;33m.\u001b[0m\u001b[0m_lock\u001b[0m\u001b[1;33m:\u001b[0m\u001b[1;33m\u001b[0m\u001b[1;33m\u001b[0m\u001b[0m\n\u001b[0;32m    753\u001b[0m             \u001b[0mjob_idx\u001b[0m \u001b[1;33m=\u001b[0m \u001b[0mlen\u001b[0m\u001b[1;33m(\u001b[0m\u001b[0mself\u001b[0m\u001b[1;33m.\u001b[0m\u001b[0m_jobs\u001b[0m\u001b[1;33m)\u001b[0m\u001b[1;33m\u001b[0m\u001b[1;33m\u001b[0m\u001b[0m\n\u001b[1;32m--> 754\u001b[1;33m             \u001b[0mjob\u001b[0m \u001b[1;33m=\u001b[0m \u001b[0mself\u001b[0m\u001b[1;33m.\u001b[0m\u001b[0m_backend\u001b[0m\u001b[1;33m.\u001b[0m\u001b[0mapply_async\u001b[0m\u001b[1;33m(\u001b[0m\u001b[0mbatch\u001b[0m\u001b[1;33m,\u001b[0m \u001b[0mcallback\u001b[0m\u001b[1;33m=\u001b[0m\u001b[0mcb\u001b[0m\u001b[1;33m)\u001b[0m\u001b[1;33m\u001b[0m\u001b[1;33m\u001b[0m\u001b[0m\n\u001b[0m\u001b[0;32m    755\u001b[0m             \u001b[1;31m# A job can complete so quickly than its callback is\u001b[0m\u001b[1;33m\u001b[0m\u001b[1;33m\u001b[0m\u001b[1;33m\u001b[0m\u001b[0m\n\u001b[0;32m    756\u001b[0m             \u001b[1;31m# called before we get here, causing self._jobs to\u001b[0m\u001b[1;33m\u001b[0m\u001b[1;33m\u001b[0m\u001b[1;33m\u001b[0m\u001b[0m\n",
      "\u001b[1;32m~\\anaconda3\\lib\\site-packages\\joblib\\_parallel_backends.py\u001b[0m in \u001b[0;36mapply_async\u001b[1;34m(self, func, callback)\u001b[0m\n\u001b[0;32m    207\u001b[0m     \u001b[1;32mdef\u001b[0m \u001b[0mapply_async\u001b[0m\u001b[1;33m(\u001b[0m\u001b[0mself\u001b[0m\u001b[1;33m,\u001b[0m \u001b[0mfunc\u001b[0m\u001b[1;33m,\u001b[0m \u001b[0mcallback\u001b[0m\u001b[1;33m=\u001b[0m\u001b[1;32mNone\u001b[0m\u001b[1;33m)\u001b[0m\u001b[1;33m:\u001b[0m\u001b[1;33m\u001b[0m\u001b[1;33m\u001b[0m\u001b[0m\n\u001b[0;32m    208\u001b[0m         \u001b[1;34m\"\"\"Schedule a func to be run\"\"\"\u001b[0m\u001b[1;33m\u001b[0m\u001b[1;33m\u001b[0m\u001b[0m\n\u001b[1;32m--> 209\u001b[1;33m         \u001b[0mresult\u001b[0m \u001b[1;33m=\u001b[0m \u001b[0mImmediateResult\u001b[0m\u001b[1;33m(\u001b[0m\u001b[0mfunc\u001b[0m\u001b[1;33m)\u001b[0m\u001b[1;33m\u001b[0m\u001b[1;33m\u001b[0m\u001b[0m\n\u001b[0m\u001b[0;32m    210\u001b[0m         \u001b[1;32mif\u001b[0m \u001b[0mcallback\u001b[0m\u001b[1;33m:\u001b[0m\u001b[1;33m\u001b[0m\u001b[1;33m\u001b[0m\u001b[0m\n\u001b[0;32m    211\u001b[0m             \u001b[0mcallback\u001b[0m\u001b[1;33m(\u001b[0m\u001b[0mresult\u001b[0m\u001b[1;33m)\u001b[0m\u001b[1;33m\u001b[0m\u001b[1;33m\u001b[0m\u001b[0m\n",
      "\u001b[1;32m~\\anaconda3\\lib\\site-packages\\joblib\\_parallel_backends.py\u001b[0m in \u001b[0;36m__init__\u001b[1;34m(self, batch)\u001b[0m\n\u001b[0;32m    588\u001b[0m         \u001b[1;31m# Don't delay the application, to avoid keeping the input\u001b[0m\u001b[1;33m\u001b[0m\u001b[1;33m\u001b[0m\u001b[1;33m\u001b[0m\u001b[0m\n\u001b[0;32m    589\u001b[0m         \u001b[1;31m# arguments in memory\u001b[0m\u001b[1;33m\u001b[0m\u001b[1;33m\u001b[0m\u001b[1;33m\u001b[0m\u001b[0m\n\u001b[1;32m--> 590\u001b[1;33m         \u001b[0mself\u001b[0m\u001b[1;33m.\u001b[0m\u001b[0mresults\u001b[0m \u001b[1;33m=\u001b[0m \u001b[0mbatch\u001b[0m\u001b[1;33m(\u001b[0m\u001b[1;33m)\u001b[0m\u001b[1;33m\u001b[0m\u001b[1;33m\u001b[0m\u001b[0m\n\u001b[0m\u001b[0;32m    591\u001b[0m \u001b[1;33m\u001b[0m\u001b[0m\n\u001b[0;32m    592\u001b[0m     \u001b[1;32mdef\u001b[0m \u001b[0mget\u001b[0m\u001b[1;33m(\u001b[0m\u001b[0mself\u001b[0m\u001b[1;33m)\u001b[0m\u001b[1;33m:\u001b[0m\u001b[1;33m\u001b[0m\u001b[1;33m\u001b[0m\u001b[0m\n",
      "\u001b[1;32m~\\anaconda3\\lib\\site-packages\\joblib\\parallel.py\u001b[0m in \u001b[0;36m__call__\u001b[1;34m(self)\u001b[0m\n\u001b[0;32m    254\u001b[0m         \u001b[1;32mwith\u001b[0m \u001b[0mparallel_backend\u001b[0m\u001b[1;33m(\u001b[0m\u001b[0mself\u001b[0m\u001b[1;33m.\u001b[0m\u001b[0m_backend\u001b[0m\u001b[1;33m,\u001b[0m \u001b[0mn_jobs\u001b[0m\u001b[1;33m=\u001b[0m\u001b[0mself\u001b[0m\u001b[1;33m.\u001b[0m\u001b[0m_n_jobs\u001b[0m\u001b[1;33m)\u001b[0m\u001b[1;33m:\u001b[0m\u001b[1;33m\u001b[0m\u001b[1;33m\u001b[0m\u001b[0m\n\u001b[0;32m    255\u001b[0m             return [func(*args, **kwargs)\n\u001b[1;32m--> 256\u001b[1;33m                     for func, args, kwargs in self.items]\n\u001b[0m\u001b[0;32m    257\u001b[0m \u001b[1;33m\u001b[0m\u001b[0m\n\u001b[0;32m    258\u001b[0m     \u001b[1;32mdef\u001b[0m \u001b[0m__len__\u001b[0m\u001b[1;33m(\u001b[0m\u001b[0mself\u001b[0m\u001b[1;33m)\u001b[0m\u001b[1;33m:\u001b[0m\u001b[1;33m\u001b[0m\u001b[1;33m\u001b[0m\u001b[0m\n",
      "\u001b[1;32m~\\anaconda3\\lib\\site-packages\\joblib\\parallel.py\u001b[0m in \u001b[0;36m<listcomp>\u001b[1;34m(.0)\u001b[0m\n\u001b[0;32m    254\u001b[0m         \u001b[1;32mwith\u001b[0m \u001b[0mparallel_backend\u001b[0m\u001b[1;33m(\u001b[0m\u001b[0mself\u001b[0m\u001b[1;33m.\u001b[0m\u001b[0m_backend\u001b[0m\u001b[1;33m,\u001b[0m \u001b[0mn_jobs\u001b[0m\u001b[1;33m=\u001b[0m\u001b[0mself\u001b[0m\u001b[1;33m.\u001b[0m\u001b[0m_n_jobs\u001b[0m\u001b[1;33m)\u001b[0m\u001b[1;33m:\u001b[0m\u001b[1;33m\u001b[0m\u001b[1;33m\u001b[0m\u001b[0m\n\u001b[0;32m    255\u001b[0m             return [func(*args, **kwargs)\n\u001b[1;32m--> 256\u001b[1;33m                     for func, args, kwargs in self.items]\n\u001b[0m\u001b[0;32m    257\u001b[0m \u001b[1;33m\u001b[0m\u001b[0m\n\u001b[0;32m    258\u001b[0m     \u001b[1;32mdef\u001b[0m \u001b[0m__len__\u001b[0m\u001b[1;33m(\u001b[0m\u001b[0mself\u001b[0m\u001b[1;33m)\u001b[0m\u001b[1;33m:\u001b[0m\u001b[1;33m\u001b[0m\u001b[1;33m\u001b[0m\u001b[0m\n",
      "\u001b[1;32m~\\anaconda3\\lib\\site-packages\\sklearn\\utils\\fixes.py\u001b[0m in \u001b[0;36m__call__\u001b[1;34m(self, *args, **kwargs)\u001b[0m\n\u001b[0;32m    220\u001b[0m     \u001b[1;32mdef\u001b[0m \u001b[0m__call__\u001b[0m\u001b[1;33m(\u001b[0m\u001b[0mself\u001b[0m\u001b[1;33m,\u001b[0m \u001b[1;33m*\u001b[0m\u001b[0margs\u001b[0m\u001b[1;33m,\u001b[0m \u001b[1;33m**\u001b[0m\u001b[0mkwargs\u001b[0m\u001b[1;33m)\u001b[0m\u001b[1;33m:\u001b[0m\u001b[1;33m\u001b[0m\u001b[1;33m\u001b[0m\u001b[0m\n\u001b[0;32m    221\u001b[0m         \u001b[1;32mwith\u001b[0m \u001b[0mconfig_context\u001b[0m\u001b[1;33m(\u001b[0m\u001b[1;33m**\u001b[0m\u001b[0mself\u001b[0m\u001b[1;33m.\u001b[0m\u001b[0mconfig\u001b[0m\u001b[1;33m)\u001b[0m\u001b[1;33m:\u001b[0m\u001b[1;33m\u001b[0m\u001b[1;33m\u001b[0m\u001b[0m\n\u001b[1;32m--> 222\u001b[1;33m             \u001b[1;32mreturn\u001b[0m \u001b[0mself\u001b[0m\u001b[1;33m.\u001b[0m\u001b[0mfunction\u001b[0m\u001b[1;33m(\u001b[0m\u001b[1;33m*\u001b[0m\u001b[0margs\u001b[0m\u001b[1;33m,\u001b[0m \u001b[1;33m**\u001b[0m\u001b[0mkwargs\u001b[0m\u001b[1;33m)\u001b[0m\u001b[1;33m\u001b[0m\u001b[1;33m\u001b[0m\u001b[0m\n\u001b[0m",
      "\u001b[1;32m~\\anaconda3\\lib\\site-packages\\sklearn\\model_selection\\_validation.py\u001b[0m in \u001b[0;36m_fit_and_score\u001b[1;34m(estimator, X, y, scorer, train, test, verbose, parameters, fit_params, return_train_score, return_parameters, return_n_test_samples, return_times, return_estimator, split_progress, candidate_progress, error_score)\u001b[0m\n\u001b[0;32m    596\u001b[0m             \u001b[0mestimator\u001b[0m\u001b[1;33m.\u001b[0m\u001b[0mfit\u001b[0m\u001b[1;33m(\u001b[0m\u001b[0mX_train\u001b[0m\u001b[1;33m,\u001b[0m \u001b[1;33m**\u001b[0m\u001b[0mfit_params\u001b[0m\u001b[1;33m)\u001b[0m\u001b[1;33m\u001b[0m\u001b[1;33m\u001b[0m\u001b[0m\n\u001b[0;32m    597\u001b[0m         \u001b[1;32melse\u001b[0m\u001b[1;33m:\u001b[0m\u001b[1;33m\u001b[0m\u001b[1;33m\u001b[0m\u001b[0m\n\u001b[1;32m--> 598\u001b[1;33m             \u001b[0mestimator\u001b[0m\u001b[1;33m.\u001b[0m\u001b[0mfit\u001b[0m\u001b[1;33m(\u001b[0m\u001b[0mX_train\u001b[0m\u001b[1;33m,\u001b[0m \u001b[0my_train\u001b[0m\u001b[1;33m,\u001b[0m \u001b[1;33m**\u001b[0m\u001b[0mfit_params\u001b[0m\u001b[1;33m)\u001b[0m\u001b[1;33m\u001b[0m\u001b[1;33m\u001b[0m\u001b[0m\n\u001b[0m\u001b[0;32m    599\u001b[0m \u001b[1;33m\u001b[0m\u001b[0m\n\u001b[0;32m    600\u001b[0m     \u001b[1;32mexcept\u001b[0m \u001b[0mException\u001b[0m \u001b[1;32mas\u001b[0m \u001b[0me\u001b[0m\u001b[1;33m:\u001b[0m\u001b[1;33m\u001b[0m\u001b[1;33m\u001b[0m\u001b[0m\n",
      "\u001b[1;32m~\\anaconda3\\lib\\site-packages\\sklearn\\svm\\_base.py\u001b[0m in \u001b[0;36mfit\u001b[1;34m(self, X, y, sample_weight)\u001b[0m\n\u001b[0;32m    224\u001b[0m \u001b[1;33m\u001b[0m\u001b[0m\n\u001b[0;32m    225\u001b[0m         \u001b[0mseed\u001b[0m \u001b[1;33m=\u001b[0m \u001b[0mrnd\u001b[0m\u001b[1;33m.\u001b[0m\u001b[0mrandint\u001b[0m\u001b[1;33m(\u001b[0m\u001b[0mnp\u001b[0m\u001b[1;33m.\u001b[0m\u001b[0miinfo\u001b[0m\u001b[1;33m(\u001b[0m\u001b[1;34m'i'\u001b[0m\u001b[1;33m)\u001b[0m\u001b[1;33m.\u001b[0m\u001b[0mmax\u001b[0m\u001b[1;33m)\u001b[0m\u001b[1;33m\u001b[0m\u001b[1;33m\u001b[0m\u001b[0m\n\u001b[1;32m--> 226\u001b[1;33m         \u001b[0mfit\u001b[0m\u001b[1;33m(\u001b[0m\u001b[0mX\u001b[0m\u001b[1;33m,\u001b[0m \u001b[0my\u001b[0m\u001b[1;33m,\u001b[0m \u001b[0msample_weight\u001b[0m\u001b[1;33m,\u001b[0m \u001b[0msolver_type\u001b[0m\u001b[1;33m,\u001b[0m \u001b[0mkernel\u001b[0m\u001b[1;33m,\u001b[0m \u001b[0mrandom_seed\u001b[0m\u001b[1;33m=\u001b[0m\u001b[0mseed\u001b[0m\u001b[1;33m)\u001b[0m\u001b[1;33m\u001b[0m\u001b[1;33m\u001b[0m\u001b[0m\n\u001b[0m\u001b[0;32m    227\u001b[0m         \u001b[1;31m# see comment on the other call to np.iinfo in this file\u001b[0m\u001b[1;33m\u001b[0m\u001b[1;33m\u001b[0m\u001b[1;33m\u001b[0m\u001b[0m\n\u001b[0;32m    228\u001b[0m \u001b[1;33m\u001b[0m\u001b[0m\n",
      "\u001b[1;32m~\\anaconda3\\lib\\site-packages\\sklearn\\svm\\_base.py\u001b[0m in \u001b[0;36m_sparse_fit\u001b[1;34m(self, X, y, sample_weight, solver_type, kernel, random_seed)\u001b[0m\n\u001b[0;32m    305\u001b[0m                 \u001b[0msample_weight\u001b[0m\u001b[1;33m,\u001b[0m \u001b[0mself\u001b[0m\u001b[1;33m.\u001b[0m\u001b[0mnu\u001b[0m\u001b[1;33m,\u001b[0m \u001b[0mself\u001b[0m\u001b[1;33m.\u001b[0m\u001b[0mcache_size\u001b[0m\u001b[1;33m,\u001b[0m \u001b[0mself\u001b[0m\u001b[1;33m.\u001b[0m\u001b[0mepsilon\u001b[0m\u001b[1;33m,\u001b[0m\u001b[1;33m\u001b[0m\u001b[1;33m\u001b[0m\u001b[0m\n\u001b[0;32m    306\u001b[0m                 \u001b[0mint\u001b[0m\u001b[1;33m(\u001b[0m\u001b[0mself\u001b[0m\u001b[1;33m.\u001b[0m\u001b[0mshrinking\u001b[0m\u001b[1;33m)\u001b[0m\u001b[1;33m,\u001b[0m \u001b[0mint\u001b[0m\u001b[1;33m(\u001b[0m\u001b[0mself\u001b[0m\u001b[1;33m.\u001b[0m\u001b[0mprobability\u001b[0m\u001b[1;33m)\u001b[0m\u001b[1;33m,\u001b[0m \u001b[0mself\u001b[0m\u001b[1;33m.\u001b[0m\u001b[0mmax_iter\u001b[0m\u001b[1;33m,\u001b[0m\u001b[1;33m\u001b[0m\u001b[1;33m\u001b[0m\u001b[0m\n\u001b[1;32m--> 307\u001b[1;33m                 random_seed)\n\u001b[0m\u001b[0;32m    308\u001b[0m \u001b[1;33m\u001b[0m\u001b[0m\n\u001b[0;32m    309\u001b[0m         \u001b[0mself\u001b[0m\u001b[1;33m.\u001b[0m\u001b[0m_warn_from_fit_status\u001b[0m\u001b[1;33m(\u001b[0m\u001b[1;33m)\u001b[0m\u001b[1;33m\u001b[0m\u001b[1;33m\u001b[0m\u001b[0m\n",
      "\u001b[1;32msklearn\\svm\\_libsvm_sparse.pyx\u001b[0m in \u001b[0;36msklearn.svm._libsvm_sparse.libsvm_sparse_train\u001b[1;34m()\u001b[0m\n",
      "\u001b[1;32m~\\anaconda3\\lib\\site-packages\\scipy\\sparse\\compressed.py\u001b[0m in \u001b[0;36m__init__\u001b[1;34m(self, arg1, shape, dtype, copy)\u001b[0m\n\u001b[0;32m     28\u001b[0m     \u001b[1;34m\"\"\"base matrix class for compressed row and column oriented matrices\"\"\"\u001b[0m\u001b[1;33m\u001b[0m\u001b[1;33m\u001b[0m\u001b[0m\n\u001b[0;32m     29\u001b[0m \u001b[1;33m\u001b[0m\u001b[0m\n\u001b[1;32m---> 30\u001b[1;33m     \u001b[1;32mdef\u001b[0m \u001b[0m__init__\u001b[0m\u001b[1;33m(\u001b[0m\u001b[0mself\u001b[0m\u001b[1;33m,\u001b[0m \u001b[0marg1\u001b[0m\u001b[1;33m,\u001b[0m \u001b[0mshape\u001b[0m\u001b[1;33m=\u001b[0m\u001b[1;32mNone\u001b[0m\u001b[1;33m,\u001b[0m \u001b[0mdtype\u001b[0m\u001b[1;33m=\u001b[0m\u001b[1;32mNone\u001b[0m\u001b[1;33m,\u001b[0m \u001b[0mcopy\u001b[0m\u001b[1;33m=\u001b[0m\u001b[1;32mFalse\u001b[0m\u001b[1;33m)\u001b[0m\u001b[1;33m:\u001b[0m\u001b[1;33m\u001b[0m\u001b[1;33m\u001b[0m\u001b[0m\n\u001b[0m\u001b[0;32m     31\u001b[0m         \u001b[0m_data_matrix\u001b[0m\u001b[1;33m.\u001b[0m\u001b[0m__init__\u001b[0m\u001b[1;33m(\u001b[0m\u001b[0mself\u001b[0m\u001b[1;33m)\u001b[0m\u001b[1;33m\u001b[0m\u001b[1;33m\u001b[0m\u001b[0m\n\u001b[0;32m     32\u001b[0m \u001b[1;33m\u001b[0m\u001b[0m\n",
      "\u001b[1;31mKeyboardInterrupt\u001b[0m: "
     ]
    }
   ],
   "source": [
    "cross_val_score(model_svm[\"classifier\"],X,Y,cv=5)"
   ]
  },
  {
   "cell_type": "code",
   "execution_count": null,
   "metadata": {},
   "outputs": [],
   "source": []
  }
 ],
 "metadata": {
  "kernelspec": {
   "display_name": "Python 3",
   "language": "python",
   "name": "python3"
  },
  "language_info": {
   "codemirror_mode": {
    "name": "ipython",
    "version": 3
   },
   "file_extension": ".py",
   "mimetype": "text/x-python",
   "name": "python",
   "nbconvert_exporter": "python",
   "pygments_lexer": "ipython3",
   "version": "3.7.6"
  }
 },
 "nbformat": 4,
 "nbformat_minor": 4
}
